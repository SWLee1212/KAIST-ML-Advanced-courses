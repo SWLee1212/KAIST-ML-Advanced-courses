{
  "nbformat": 4,
  "nbformat_minor": 0,
  "metadata": {
    "colab": {
      "name": "2-1_LogisticRegression.ipynb",
      "provenance": [],
      "collapsed_sections": [],
      "authorship_tag": "ABX9TyMcgwjSBbidfJutja815lTz",
      "include_colab_link": true
    },
    "kernelspec": {
      "name": "python3",
      "display_name": "Python 3"
    },
    "language_info": {
      "name": "python"
    }
  },
  "cells": [
    {
      "cell_type": "markdown",
      "metadata": {
        "id": "view-in-github",
        "colab_type": "text"
      },
      "source": [
        "<a href=\"https://colab.research.google.com/github/SWLee1212/KAIST-ML-Advanced-courses/blob/master/2_1_LogisticRegression.ipynb\" target=\"_parent\"><img src=\"https://colab.research.google.com/assets/colab-badge.svg\" alt=\"Open In Colab\"/></a>"
      ]
    },
    {
      "cell_type": "code",
      "metadata": {
        "colab": {
          "base_uri": "https://localhost:8080/",
          "height": 774
        },
        "id": "zQS0YzTUUTuG",
        "outputId": "cde3f632-27b0-43c5-d41f-5860f1084ea8"
      },
      "source": [
        "from data_plot import *   \n",
        "\n",
        "import warnings\n",
        "warnings.filterwarnings(action='ignore')\n",
        "\n",
        "import numpy as np\n",
        "from sklearn.linear_model import LogisticRegression\n",
        "from sklearn.linear_model import LinearRegression\n",
        "\n",
        "from sklearn.model_selection import train_test_split\n",
        "import matplotlib.pyplot as plt\n",
        "\n",
        "\n",
        "# 데이터를 생성하고 반환하는 함수입니다.\n",
        "def load_data():\n",
        "    \n",
        "    np.random.seed(0)\n",
        "    \n",
        "    X = np.random.normal(size = 100)\n",
        "    y = (X > 0).astype(np.float)\n",
        "    X[X > 0] *= 5\n",
        "    X += .7 * np.random.normal(size = 100)\n",
        "    X = X[:, np.newaxis]\n",
        "    \n",
        "    train_X, test_X, train_y, test_y = train_test_split(X, y, test_size = 0.2, random_state = 100)\n",
        "    \n",
        "    return train_X, test_X, train_y, test_y\n",
        "\"\"\"\n",
        "1. 로지스틱 회귀 모델을 구현하고, \n",
        "   학습 결과를 확인할 수 있는 main() 함수를 완성합니다. \n",
        "   \n",
        "   Step01. 데이터를 불러옵니다.\n",
        "   \n",
        "   Step02. 로지스틱 회귀 모델을 정의합니다.\n",
        "   \n",
        "   Step03. 학습용 데이터로 로지스틱 회귀 모델을\n",
        "           학습시킵니다.\n",
        "   \n",
        "   Step04. 테스트용 데이터로 예측한 분류 결과를\n",
        "           확인합니다.\n",
        "\"\"\"\n",
        "\n",
        "# 그래프를 시각화하는 함수입니다.\n",
        "def plotting_graph(x,y,predicted):\n",
        "    fig = plt.figure()\n",
        "    plt.scatter(x, y)\n",
        "    \n",
        "    plt.scatter(x, predicted,c='r')\n",
        "    plt.savefig(\"test.png\")\n",
        "    plt.show()\n",
        "    # elice_utils.send_image(\"test.png\")\n",
        "\n",
        "def main():\n",
        "    \n",
        "    train_X, test_X, train_y, test_y = load_data()\n",
        "    \n",
        "    logistic_model = LogisticRegression()    \n",
        "    logistic_model.fit(train_X,train_y)    \n",
        "    predicted = logistic_model.predict(test_X)\n",
        "    \n",
        "    # 예측 결과 확인하기 \n",
        "    print(\"예측 결과 :\", predicted[:10])\n",
        "    plotting_graph(test_X,test_y,predicted)\n",
        "\n",
        "    # print(test_X)\n",
        "    # print(np.linspace(np.min(test_X),np.max(test_X), 100))\n",
        "    # print(\n",
        "    #     np.linspace(np.min(test_X),np.max(test_X), 100).reshape(100,-1)        \n",
        "    #     )\n",
        "\n",
        "    # lin_test_X = np.reshape(np.linspace(np.min(test_X),np.max(test_X), 100),([],-1))\n",
        "\n",
        "    lr_model = LinearRegression()    \n",
        "    lr_model.fit(train_X,train_y)    \n",
        "\n",
        "    predicted = lr_model.predict(test_X)\n",
        "    plotting_graph(test_X,predicted,predicted)\n",
        "\n",
        "    plot_logistic_regression(logistic_model, train_X, train_y)\n",
        "    \n",
        "    return logistic_model\n",
        "\n",
        "if __name__ == \"__main__\":\n",
        "    main()\n"
      ],
      "execution_count": null,
      "outputs": [
        {
          "output_type": "stream",
          "text": [
            "예측 결과 : [1. 0. 0. 0. 1. 0. 1. 0. 0. 1.]\n"
          ],
          "name": "stdout"
        },
        {
          "output_type": "display_data",
          "data": {
            "image/png": "[encoded data removed]",
            "text/plain": [
              "<Figure size 432x288 with 1 Axes>"
            ]
          },
          "metadata": {
            "tags": [],
            "needs_background": "light"
          }
        },
        {
          "output_type": "display_data",
          "data": {
            "image/png": "[encoded data removed]",
            "text/plain": [
              "<Figure size 432x288 with 1 Axes>"
            ]
          },
          "metadata": {
            "tags": [],
            "needs_background": "light"
          }
        },
        {
          "output_type": "display_data",
          "data": {
            "image/png": "[encoded data removed]",
            "text/plain": [
              "<Figure size 288x216 with 1 Axes>"
            ]
          },
          "metadata": {
            "tags": [],
            "needs_background": "light"
          }
        },
        {
          "output_type": "stream",
          "text": [
            "[image]"
          ],
          "name": "stdout"
        },
        {
          "output_type": "display_data",
          "data": {
            "text/plain": [
              "<Figure size 432x288 with 0 Axes>"
            ]
          },
          "metadata": {
            "tags": []
          }
        }
      ]
    },
    {
      "cell_type": "code",
      "metadata": {
        "id": "ddPlXN3MZ82Z"
      },
      "source": [
        ""
      ],
      "execution_count": null,
      "outputs": []
    }
  ]
}