{
  "nbformat": 4,
  "nbformat_minor": 0,
  "metadata": {
    "colab": {
      "name": "1-3_다중 선형 회귀 모델 구현하기.ipynb",
      "provenance": [],
      "authorship_tag": "ABX9TyN5yMPiPpTieVqRmzHmIdKD",
      "include_colab_link": true
    },
    "kernelspec": {
      "name": "python3",
      "display_name": "Python 3"
    },
    "language_info": {
      "name": "python"
    }
  },
  "cells": [
    {
      "cell_type": "markdown",
      "metadata": {
        "id": "view-in-github",
        "colab_type": "text"
      },
      "source": [
        "<a href=\"https://colab.research.google.com/github/SWLee1212/KAIST-ML-Advanced-courses/blob/master/1_3_%EB%8B%A4%EC%A4%91_%EC%84%A0%ED%98%95_%ED%9A%8C%EA%B7%80_%EB%AA%A8%EB%8D%B8_%EA%B5%AC%ED%98%84%ED%95%98%EA%B8%B0.ipynb\" target=\"_parent\"><img src=\"https://colab.research.google.com/assets/colab-badge.svg\" alt=\"Open In Colab\"/></a>"
      ]
    },
    {
      "cell_type": "code",
      "metadata": {
        "colab": {
          "base_uri": "https://localhost:8080/"
        },
        "id": "7HfLdCgH2pDH",
        "outputId": "f5d9186b-ba4f-49ae-c345-983052cf3f5a"
      },
      "source": [
        "import matplotlib.pyplot as plt\n",
        "\n",
        "import numpy as np\n",
        "from sklearn.model_selection import train_test_split\n",
        "from sklearn.linear_model import LinearRegression\n",
        "\n",
        "# boston 데이터를 위한 모듈을 불러옵니다. \n",
        "from sklearn.datasets import load_boston\n",
        "\n",
        "\"\"\"\n",
        "1. 사이킷런에 존재하는 데이터를 불러오고, \n",
        "   불러온 데이터를 학습용 데이터와 테스트용 데이터로\n",
        "   분리하여 반환하는 함수를 구현합니다.\n",
        "   \n",
        "   Step01. 사이킷런에 존재하는 boston 데이터를 \n",
        "           (X, y)의 형태로 불러옵니다. \n",
        "   \n",
        "   Step02. 불러온 데이터를 \n",
        "           학습용 데이터와 테스트용 데이터로 분리합니다.\n",
        "           \n",
        "           학습용 데이터로 전체 데이터의 80%를 사용하고, \n",
        "           테스트용 데이터로 나머지 20%를 사용합니다.\n",
        "           \n",
        "           동일한 결과 확인을 위하여 random_state를\n",
        "           100으로 설정합니다.\n",
        "\"\"\"\n",
        "def load_data():\n",
        "    \n",
        "    X, y  = load_boston(return_X_y = True)\n",
        "     \n",
        "    print(\"데이터의 입력값(X)의 개수 :\", X.shape[1])\n",
        "    \n",
        "    train_X, test_X, train_y, test_y = train_test_split(X, y, test_size=0.2, random_state = 100)\n",
        "    \n",
        "    return train_X, test_X, train_y, test_y\n",
        "    \n",
        "\"\"\"\n",
        "2. 다중 선형회귀 모델을 불러오고, \n",
        "   불러온 모델을 학습용 데이터에 맞추어 학습시킨 후\n",
        "   해당 모델을 반환하는 함수를 구현합니다.\n",
        "\n",
        "   Step01. 사이킷런에 구현되어 있는 \n",
        "           다중 선형회귀 모델을 불러옵니다.\n",
        "\n",
        "   Step02. 불러온 모델을 학습용 데이터에 맞춰\n",
        "           학습시킵니다.\n",
        "\"\"\"\n",
        "def Multi_Regression(train_X,train_y):\n",
        "    \n",
        "    multilinear = LinearRegression()\n",
        "    \n",
        "    multilinear.fit(train_X, train_y)\n",
        "    \n",
        "    return multilinear\n",
        "    \n",
        "\"\"\"\n",
        "3. 모델 학습 및 예측 결과 확인을 위한 main 함수를 완성합니다.\n",
        "   \n",
        "   Step01. 학습이 완료된 모델을 활용하여 \n",
        "           테스트 데이터에 대한 예측을 수행합니다.\n",
        "        \n",
        "   Step02. 사이킷런 회귀 모델 내에 구현되어 있는 \n",
        "           score 함수를 사용하여 \n",
        "           모델 학습 평가 점수를 model_score 변수에\n",
        "           저장합니다. \n",
        "   \n",
        "   Step03. 학습된 모델의 beta_0와 beta_i들을 \n",
        "           각각 변수 beta_0와 beta_i_list에 저장합니다.\n",
        "\"\"\"\n",
        "def main():\n",
        "    \n",
        "    train_X, test_X, train_y, test_y = load_data()\n",
        "    \n",
        "    multilinear = Multi_Regression(train_X,train_y)\n",
        "    \n",
        "    predicted = multilinear.predict(test_X)\n",
        "    \n",
        "    model_score = multilinear.score(test_X,test_y)\n",
        "    \n",
        "    print(\"\\n> 모델 평가 점수 :\", model_score)\n",
        "     \n",
        "    beta_0 = multilinear.intercept_\n",
        "    beta_i_list = multilinear.coef_\n",
        "    \n",
        "    print(\"\\n> beta_0 : \",beta_0)\n",
        "    print(\"> beta_i_list : \",beta_i_list)\n",
        "    \n",
        "    return predicted, beta_0, beta_i_list, model_score\n",
        "    \n",
        "if __name__ == \"__main__\":\n",
        "    main()"
      ],
      "execution_count": 1,
      "outputs": [
        {
          "output_type": "stream",
          "text": [
            "데이터의 입력값(X)의 개수 : 13\n",
            "\n",
            "> 모델 평가 점수 : 0.7555033086871306\n",
            "\n",
            "> beta_0 :  36.333770285507384\n",
            "> beta_i_list :  [-8.14896492e-02  4.80407782e-02 -5.47150249e-03  3.06260576e+00\n",
            " -1.61368815e+01  3.67245067e+00 -8.51525259e-03 -1.51740854e+00\n",
            "  2.87271007e-01 -1.21207598e-02 -9.24160757e-01  9.53460812e-03\n",
            " -4.85895548e-01]\n"
          ],
          "name": "stdout"
        }
      ]
    }
  ]
}