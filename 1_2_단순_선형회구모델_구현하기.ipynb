{
  "nbformat": 4,
  "nbformat_minor": 0,
  "metadata": {
    "colab": {
      "name": "1-2_단순 선형회구모델_구현하기.ipynb",
      "provenance": [],
      "authorship_tag": "ABX9TyPUWJejmJacDDDLZOswBjjd",
      "include_colab_link": true
    },
    "kernelspec": {
      "name": "python3",
      "display_name": "Python 3"
    },
    "language_info": {
      "name": "python"
    }
  },
  "cells": [
    {
      "cell_type": "markdown",
      "metadata": {
        "id": "view-in-github",
        "colab_type": "text"
      },
      "source": [
        "<a href=\"https://colab.research.google.com/github/SWLee1212/KAIST-ML-Advanced-courses/blob/master/1_2_%EB%8B%A8%EC%88%9C_%EC%84%A0%ED%98%95%ED%9A%8C%EA%B5%AC%EB%AA%A8%EB%8D%B8_%EA%B5%AC%ED%98%84%ED%95%98%EA%B8%B0.ipynb\" target=\"_parent\"><img src=\"https://colab.research.google.com/assets/colab-badge.svg\" alt=\"Open In Colab\"/></a>"
      ]
    },
    {
      "cell_type": "code",
      "metadata": {
        "colab": {
          "base_uri": "https://localhost:8080/",
          "height": 496
        },
        "id": "sk5GVWiH1xwJ",
        "outputId": "6bacef03-8f63-4d29-854f-9b83e15c28b9"
      },
      "source": [
        "import matplotlib.pyplot as plt\n",
        "import numpy as np\n",
        "\n",
        "# from elice_utils import EliceUtils\n",
        "# elice_utils = EliceUtils()\n",
        "\n",
        "# 데이터를 분리하는 모듈을 불러옵니다.\n",
        "from sklearn.model_selection import train_test_split\n",
        "\n",
        "# 사이킷런에 구현되어 있는 회귀 모델을 불러옵니다.\n",
        "from sklearn.linear_model import LinearRegression\n",
        "\n",
        "\"\"\"\n",
        "1. 데이터를 생성하고, \n",
        "   생성한 데이터를 \n",
        "   학습용 데이터와 테스트용 데이터로 분리하여 \n",
        "   반환하는 함수를 구현합니다.\n",
        "   \n",
        "   학습용 데이터로 전체 데이터의 70%를 사용하고, \n",
        "   테스트용 데이터로 나머지 30%를 사용합니다.\n",
        "   \n",
        "   동일한 결과 확인을 위하여 random_state를 0으로 설정합니다.\n",
        "\"\"\"\n",
        "def load_data():\n",
        "    \n",
        "    np.random.seed(0)\n",
        "    \n",
        "    X = 5*np.random.rand(100,1)\n",
        "    y = 3*X + 5*np.random.rand(100,1)\n",
        "    \n",
        "    train_X, test_X, train_y, test_y = train_test_split(X,y,test_size = 0.3, random_state=0)\n",
        "    \n",
        "    return train_X, test_X, train_y, test_y\n",
        "\n",
        "\"\"\"\n",
        "2. 단순 선형회귀 모델을 불러오고, \n",
        "   불러온 모델을 학습용 데이터에 \n",
        "   맞추어 학습시킨 후\n",
        "   테스트 데이터에 대한 \n",
        "   예측값을 반환하는 함수를 구현합니다.\n",
        "\n",
        "   Step01. 사이킷런에 구현되어 있는 \n",
        "           단순 선형회귀 모델을 불러옵니다.\n",
        "\n",
        "   Step02. 불러온 모델을 \n",
        "           학습용 데이터에 맞춰 학습시킵니다.\n",
        "\"\"\"\n",
        "def regression_model(train_X, train_y):\n",
        "    \n",
        "    simplelinear = LinearRegression()\n",
        "    \n",
        "    simplelinear.fit(train_X, train_y)\n",
        "    \n",
        "    return simplelinear\n",
        "    \n",
        "# 그래프를 시각화하는 함수입니다.\n",
        "def plotting_graph(train_X, test_X, train_y, test_y, predicted):\n",
        "    fig, ax = plt.subplots(1,2, figsize=(16, 7))\n",
        "    \n",
        "    ax[0].scatter(train_X,train_y)\n",
        "    ax[1].scatter(test_X,test_y)\n",
        "    ax[1].plot(test_X, predicted, color='b')\n",
        "    \n",
        "    ax[0].set_xlabel('train_X')\n",
        "    ax[0].set_ylabel('train_y')\n",
        "    ax[1].set_xlabel('test_X')\n",
        "    ax[1].set_ylabel('test_y')\n",
        "    \n",
        "    fig.savefig(\"result.png\")\n",
        "    fig.show()\n",
        "    # elice_utils.send_image(\"result.png\")\n",
        "    \n",
        "\"\"\"\n",
        "3. 모델 학습 및 예측 결과 확인을 위한 \n",
        "   main() 함수를 완성합니다.\n",
        "   \n",
        "   Step01. 학습이 완료된 모델을 활용하여 \n",
        "           테스트 데이터에 대한 예측을 수행합니다.\n",
        "        \n",
        "   Step02. 사이킷런 회귀 모델 내에 구현되어 있는 \n",
        "           score 함수를 사용하여 \n",
        "           모델 학습 평가 점수를 model_score 변수에\n",
        "           저장합니다. \n",
        "   \n",
        "   Step03. 학습된 모델의 beta_0와 beta_1을 \n",
        "           각각 변수 beta_0와 beta_1에 \n",
        "           저장합니다.\n",
        "\"\"\"\n",
        "def main():\n",
        "    \n",
        "    train_X, test_X, train_y, test_y = load_data()\n",
        "    \n",
        "    simplelinear = regression_model(train_X, train_y)\n",
        "    \n",
        "    predicted = simplelinear.predict(test_X)\n",
        "    \n",
        "    model_score = simplelinear.score(test_X, test_y)\n",
        "    \n",
        "    beta_0 = simplelinear.intercept_\n",
        "    beta_1 = simplelinear.coef_\n",
        "    \n",
        "    print(\"> beta_0 : \",beta_0)\n",
        "    print(\"> beta_1 : \",beta_1)\n",
        "    \n",
        "    print(\"> 모델 평가 점수 :\", model_score)\n",
        "    \n",
        "    # 시각화 함수 호출하기\n",
        "    plotting_graph(train_X, test_X, train_y, test_y, predicted)\n",
        "    \n",
        "    return predicted, beta_0, beta_1, model_score\n",
        "    \n",
        "    \n",
        "if __name__==\"__main__\":\n",
        "    main()"
      ],
      "execution_count": 2,
      "outputs": [
        {
          "output_type": "stream",
          "text": [
            "> beta_0 :  [2.89804615]\n",
            "> beta_1 :  [[2.90298892]]\n",
            "> 모델 평가 점수 : 0.8948735905242707\n"
          ],
          "name": "stdout"
        },
        {
          "output_type": "display_data",
          "data": {
            "image/png": "[encoded data removed]",
            "text/plain": [
              "<Figure size 1152x504 with 2 Axes>"
            ]
          },
          "metadata": {
            "tags": [],
            "needs_background": "light"
          }
        }
      ]
    }
  ]
}