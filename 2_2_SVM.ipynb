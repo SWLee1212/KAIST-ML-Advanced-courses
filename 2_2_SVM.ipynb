{
  "nbformat": 4,
  "nbformat_minor": 0,
  "metadata": {
    "colab": {
      "name": "2-2_SVM.ipynb",
      "provenance": [],
      "collapsed_sections": [],
      "authorship_tag": "ABX9TyOY94bXoXds30flheoWvZGg",
      "include_colab_link": true
    },
    "kernelspec": {
      "name": "python3",
      "display_name": "Python 3"
    },
    "language_info": {
      "name": "python"
    }
  },
  "cells": [
    {
      "cell_type": "markdown",
      "metadata": {
        "id": "view-in-github",
        "colab_type": "text"
      },
      "source": [
        "<a href=\"https://colab.research.google.com/github/SWLee1212/KAIST-ML-Advanced-courses/blob/master/2_2_SVM.ipynb\" target=\"_parent\"><img src=\"https://colab.research.google.com/assets/colab-badge.svg\" alt=\"Open In Colab\"/></a>"
      ]
    },
    {
      "cell_type": "code",
      "metadata": {
        "colab": {
          "base_uri": "https://localhost:8080/"
        },
        "id": "-VoW3kO0QOYF",
        "outputId": "f709c2e8-7fd2-4777-dae4-a42f269cc8f5"
      },
      "source": [
        "import pandas as pd  \n",
        "import numpy as np  \n",
        "import matplotlib.pyplot as plt  \n",
        "\n",
        "import warnings\n",
        "warnings.filterwarnings(action='ignore')\n",
        "\n",
        "from sklearn.model_selection import train_test_split  \n",
        "from sklearn.svm import SVC\n",
        "from sklearn.metrics import classification_report, confusion_matrix \n",
        "\"\"\"\n",
        "1. data 폴더 내에 있는 dataset.csv파일을 불러오고, \n",
        "   학습용 데이터와 테스트용 데이터를 분리하여 \n",
        "   반환하는 함수를 구현합니다.\n",
        "   \n",
        "   Step01. pandas의 read_csv() 함수를 이용하여 \n",
        "           data 폴더 내에 있는 dataset.csv파일을\n",
        "           불러옵니다. \n",
        "   \n",
        "   Step02. 데이터 X와 y를 분리합니다.\n",
        "           데이터 폴더에 있는 dataset.csv 파일을\n",
        "           확인하고,\n",
        "           \n",
        "           X 데이터와 y 데이터를 분리하여 각 변수에\n",
        "           저장합니다.\n",
        "\"\"\"\n",
        "def load_data():\n",
        "    \n",
        "    data =  pd.read_csv('dataset.csv')\n",
        "    \n",
        "    X = data.drop('Class', axis=1)\n",
        "    y = data['Class']\n",
        "    \n",
        "    train_X, test_X, train_y, test_y = train_test_split(X, y, test_size = 0.2, random_state = 0)\n",
        "    print(X, y)\n",
        "    return train_X, test_X, train_y, test_y\n",
        "    \n",
        "\"\"\"\n",
        "2. SVM 모델을 불러오고,\n",
        "   학습용 데이터에 맞추어 학습시킨 후, \n",
        "   테스트 데이터에 대한 예측 결과를 반환하는 함수를\n",
        "   구현합니다.\n",
        "   \n",
        "   Step01. SVM 모델을 정의합니다.\n",
        "   \n",
        "   Step02. SVM 모델을 학습용 데이터에 맞추어\n",
        "           학습시킵니다.\n",
        "   \n",
        "   Step03. 학습된 모델을 이용하여 \n",
        "           테스트 데이터에 대한 예측을 수행합니다. \n",
        "\"\"\"\n",
        "def SVM(train_X, test_X, train_y, test_y):\n",
        "    \n",
        "    svm = SVC()\n",
        "    \n",
        "    svm.fit(train_X,train_y)\n",
        "    \n",
        "    pred_y = svm.predict(test_X)\n",
        "    \n",
        "    return pred_y\n",
        "    \n",
        "# 데이터를 불러오고, 모델 예측 결과를 확인하는 main 함수입니다.\n",
        "def main():\n",
        "    \n",
        "    train_X, test_X, train_y, test_y = load_data()\n",
        "    \n",
        "    pred_y = SVM(train_X, test_X, train_y, test_y)\n",
        "    \n",
        "    # SVM 분류 결과값을 출력합니다.\n",
        "    print(\"\\nConfusion matrix : \\n\",confusion_matrix(test_y,pred_y))  \n",
        "    print(\"\\nReport : \\n\",classification_report(test_y,pred_y)) \n",
        "\n",
        "if __name__ == \"__main__\":\n",
        "    main()\n"
      ],
      "execution_count": 9,
      "outputs": [
        {
          "output_type": "stream",
          "text": [
            "      Factor01   Factor2   Factor3  Factor4\n",
            "0      4.67650  -3.38950   3.48960  1.47710\n",
            "1      2.67190   3.06460   0.37158  0.58619\n",
            "2      0.80355   2.84730   4.34390  0.60170\n",
            "3      1.44790  -4.87940   8.34280 -2.10860\n",
            "4      5.24230  11.02720  -4.35300 -4.10130\n",
            "...        ...       ...       ...      ...\n",
            "1367   0.40614   1.34920  -1.45010 -0.55949\n",
            "1368  -1.38870  -4.87730   6.47740  0.34179\n",
            "1369  -3.75030 -13.45860  17.59320 -2.77710\n",
            "1370  -3.56370  -8.38270  12.39300 -1.28230\n",
            "1371  -2.54190  -0.65804   2.68420  1.19520\n",
            "\n",
            "[1372 rows x 4 columns] 0       0\n",
            "1       0\n",
            "2       0\n",
            "3       0\n",
            "4       0\n",
            "       ..\n",
            "1367    1\n",
            "1368    1\n",
            "1369    1\n",
            "1370    1\n",
            "1371    1\n",
            "Name: Class, Length: 1372, dtype: int64\n",
            "\n",
            "Confusion matrix : \n",
            " [[157   0]\n",
            " [  0 118]]\n",
            "\n",
            "Report : \n",
            "               precision    recall  f1-score   support\n",
            "\n",
            "           0       1.00      1.00      1.00       157\n",
            "           1       1.00      1.00      1.00       118\n",
            "\n",
            "    accuracy                           1.00       275\n",
            "   macro avg       1.00      1.00      1.00       275\n",
            "weighted avg       1.00      1.00      1.00       275\n",
            "\n"
          ],
          "name": "stdout"
        }
      ]
    }
  ]
}