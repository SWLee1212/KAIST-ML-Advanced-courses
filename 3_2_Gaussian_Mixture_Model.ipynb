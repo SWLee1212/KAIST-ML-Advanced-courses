{
  "nbformat": 4,
  "nbformat_minor": 0,
  "metadata": {
    "colab": {
      "name": "3-2-Gaussian Mixture Model.ipynb",
      "provenance": [],
      "authorship_tag": "ABX9TyN+TJw0BaXgCvTYN3+Y5/cr",
      "include_colab_link": true
    },
    "kernelspec": {
      "name": "python3",
      "display_name": "Python 3"
    },
    "language_info": {
      "name": "python"
    }
  },
  "cells": [
    {
      "cell_type": "markdown",
      "metadata": {
        "id": "view-in-github",
        "colab_type": "text"
      },
      "source": [
        "<a href=\"https://colab.research.google.com/github/SWLee1212/KAIST-ML-Advanced-courses/blob/master/3_2_Gaussian_Mixture_Model.ipynb\" target=\"_parent\"><img src=\"https://colab.research.google.com/assets/colab-badge.svg\" alt=\"Open In Colab\"/></a>"
      ]
    },
    {
      "cell_type": "code",
      "metadata": {
        "colab": {
          "base_uri": "https://localhost:8080/",
          "height": 401
        },
        "id": "8dQQCQJWhPJX",
        "outputId": "14b241d3-02d7-484a-bbea-32244b4b0eb6"
      },
      "source": [
        "import pandas as pd\n",
        "import numpy as np\n",
        "from sklearn.mixture import GaussianMixture\n",
        "from sklearn.datasets import load_iris\n",
        "from sklearn.decomposition import PCA\n",
        "import matplotlib.pyplot as plt\n",
        "\n",
        "# from elice_utils import EliceUtils\n",
        "# elice_utils = EliceUtils()\n",
        "\n",
        "# 데이터를 불러오고, 데이터 프레임 형태로 만든 후 반환하는 함수입니다.\n",
        "def load_data():\n",
        "    \n",
        "    iris = load_iris()\n",
        "    \n",
        "    irisDF = pd.DataFrame(data = iris.data, columns = iris.feature_names)\n",
        "    \n",
        "    irisDF['target'] = iris.target\n",
        "    \n",
        "    return irisDF\n",
        "    \n",
        "\"\"\"\n",
        "1. GMM 클러스터링을 \n",
        "   수행하는 함수를 구현합니다.\n",
        "   \n",
        "   Step01. GMM 객체를 불러옵니다.\n",
        "           \n",
        "           군집의 개수는 3,\n",
        "           일관된 결과 확인을 위해 \n",
        "           random_state를 100으로 설정합니다.\n",
        "           \n",
        "   Step02. GMM 클러스터링을 수행합니다.\n",
        "           \n",
        "           클러스터링은 정답이 없는 데이터를\n",
        "           사용하기 때문에 target 변수를 제거한\n",
        "           데이터를 학습시켜줍니다.\n",
        "           \n",
        "   Step03. 군집화 결과를 \n",
        "           iris 데이터 프레임에 추가합니다.\n",
        "           \n",
        "\"\"\"\n",
        "def gmm_clus(irisDF):\n",
        "    \n",
        "    gmm = GaussianMixture(n_components = 3, random_state=100)\n",
        "    \n",
        "    gmm.fit(irisDF.iloc[:,0:-1])\n",
        "    \n",
        "    irisDF['cluster'] = gmm.predict(irisDF.iloc[:,0:-1])\n",
        "    \n",
        "    \n",
        "    # 군집화 결과를 보기 위해 groupby 함수를 사용해보겠습니다.\n",
        "    iris_result = irisDF.groupby(['target','cluster'])['sepal length (cm)'].count()\n",
        "    print(iris_result)\n",
        "    \n",
        "    return iris_result, irisDF\n",
        "\n",
        "# 군집화 결과 시각화하기\n",
        "def Visualize(irisDF):\n",
        "    \n",
        "    pca = PCA(n_components=2)\n",
        "    pca_transformed = pca.fit_transform(irisDF)\n",
        "\n",
        "    irisDF['pca_x'] = pca_transformed[:,0]\n",
        "    irisDF['pca_y'] = pca_transformed[:,1]\n",
        "\n",
        "    # 군집된 값이 0, 1, 2 인 경우, 인덱스 추출\n",
        "    idx_0 = irisDF[irisDF['cluster'] == 0].index\n",
        "    idx_1 = irisDF[irisDF['cluster'] == 1].index\n",
        "    idx_2 = irisDF[irisDF['cluster'] == 2].index\n",
        "    \n",
        "    # 각 군집 인덱스의 pca_x, pca_y 값 추출 및 시각화\n",
        "    fig, ax = plt.subplots()\n",
        "    \n",
        "    ax.scatter(x=irisDF.loc[idx_0, 'pca_x'], y= irisDF.loc[idx_0, 'pca_y'], marker = 'o')\n",
        "    ax.scatter(x=irisDF.loc[idx_1, 'pca_x'], y= irisDF.loc[idx_1, 'pca_y'], marker = 's')\n",
        "    ax.scatter(x=irisDF.loc[idx_2, 'pca_x'], y= irisDF.loc[idx_2, 'pca_y'], marker = '^')\n",
        "    ax.set_title('GMM')\n",
        "    ax.set_xlabel('PCA1')\n",
        "    ax.set_ylabel('PCA2')\n",
        "    \n",
        "    fig.savefig(\"plot.png\")\n",
        "    # elice_utils.send_image(\"plot.png\")\n",
        "\n",
        "\n",
        "def main():\n",
        "    \n",
        "    irisDF = load_data()\n",
        "    \n",
        "    iris_result, irisDF = gmm_clus(irisDF)\n",
        "    \n",
        "    Visualize(irisDF)\n",
        "    \n",
        "    \n",
        "if __name__ == \"__main__\":\n",
        "    main()\n"
      ],
      "execution_count": 7,
      "outputs": [
        {
          "output_type": "stream",
          "text": [
            "target  cluster\n",
            "0       0          50\n",
            "1       1           5\n",
            "        2          45\n",
            "2       1          50\n",
            "Name: sepal length (cm), dtype: int64\n"
          ],
          "name": "stdout"
        },
        {
          "output_type": "display_data",
          "data": {
            "image/png": "[encoded data removed]",
            "text/plain": [
              "<Figure size 432x288 with 1 Axes>"
            ]
          },
          "metadata": {
            "tags": [],
            "needs_background": "light"
          }
        }
      ]
    },
    {
      "cell_type": "code",
      "metadata": {
        "id": "tf0MIhyAiExX"
      },
      "source": [
        "import pandas as pd\n",
        "import numpy as np\n",
        "from sklearn.mixture import GaussianMixture\n",
        "from sklearn.datasets import load_iris\n",
        "from sklearn.decomposition import PCA\n",
        "import matplotlib.pyplot as plt\n"
      ],
      "execution_count": 1,
      "outputs": []
    },
    {
      "cell_type": "code",
      "metadata": {
        "id": "l3mgLBg7iIWG"
      },
      "source": [
        "    iris = load_iris()\n",
        "    \n",
        "    irisDF = pd.DataFrame(data = iris.data, columns = iris.feature_names)\n",
        "    \n",
        "    irisDF['target'] = iris.target"
      ],
      "execution_count": 3,
      "outputs": []
    },
    {
      "cell_type": "code",
      "metadata": {
        "colab": {
          "base_uri": "https://localhost:8080/",
          "height": 402
        },
        "id": "4i2yy_iDiJy-",
        "outputId": "3a6458e0-a7d5-494a-9f30-975584eb04fe"
      },
      "source": [
        "irisDF.iloc[:,0:-1]"
      ],
      "execution_count": 6,
      "outputs": [
        {
          "output_type": "execute_result",
          "data": {
            "text/html": [
              "<div>\n",
              "<style scoped>\n",
              "    .dataframe tbody tr th:only-of-type {\n",
              "        vertical-align: middle;\n",
              "    }\n",
              "\n",
              "    .dataframe tbody tr th {\n",
              "        vertical-align: top;\n",
              "    }\n",
              "\n",
              "    .dataframe thead th {\n",
              "        text-align: right;\n",
              "    }\n",
              "</style>\n",
              "<table border=\"1\" class=\"dataframe\">\n",
              "  <thead>\n",
              "    <tr style=\"text-align: right;\">\n",
              "      <th></th>\n",
              "      <th>sepal length (cm)</th>\n",
              "      <th>sepal width (cm)</th>\n",
              "      <th>petal length (cm)</th>\n",
              "      <th>petal width (cm)</th>\n",
              "    </tr>\n",
              "  </thead>\n",
              "  <tbody>\n",
              "    <tr>\n",
              "      <th>0</th>\n",
              "      <td>5.1</td>\n",
              "      <td>3.5</td>\n",
              "      <td>1.4</td>\n",
              "      <td>0.2</td>\n",
              "    </tr>\n",
              "    <tr>\n",
              "      <th>1</th>\n",
              "      <td>4.9</td>\n",
              "      <td>3.0</td>\n",
              "      <td>1.4</td>\n",
              "      <td>0.2</td>\n",
              "    </tr>\n",
              "    <tr>\n",
              "      <th>2</th>\n",
              "      <td>4.7</td>\n",
              "      <td>3.2</td>\n",
              "      <td>1.3</td>\n",
              "      <td>0.2</td>\n",
              "    </tr>\n",
              "    <tr>\n",
              "      <th>3</th>\n",
              "      <td>4.6</td>\n",
              "      <td>3.1</td>\n",
              "      <td>1.5</td>\n",
              "      <td>0.2</td>\n",
              "    </tr>\n",
              "    <tr>\n",
              "      <th>4</th>\n",
              "      <td>5.0</td>\n",
              "      <td>3.6</td>\n",
              "      <td>1.4</td>\n",
              "      <td>0.2</td>\n",
              "    </tr>\n",
              "    <tr>\n",
              "      <th>...</th>\n",
              "      <td>...</td>\n",
              "      <td>...</td>\n",
              "      <td>...</td>\n",
              "      <td>...</td>\n",
              "    </tr>\n",
              "    <tr>\n",
              "      <th>145</th>\n",
              "      <td>6.7</td>\n",
              "      <td>3.0</td>\n",
              "      <td>5.2</td>\n",
              "      <td>2.3</td>\n",
              "    </tr>\n",
              "    <tr>\n",
              "      <th>146</th>\n",
              "      <td>6.3</td>\n",
              "      <td>2.5</td>\n",
              "      <td>5.0</td>\n",
              "      <td>1.9</td>\n",
              "    </tr>\n",
              "    <tr>\n",
              "      <th>147</th>\n",
              "      <td>6.5</td>\n",
              "      <td>3.0</td>\n",
              "      <td>5.2</td>\n",
              "      <td>2.0</td>\n",
              "    </tr>\n",
              "    <tr>\n",
              "      <th>148</th>\n",
              "      <td>6.2</td>\n",
              "      <td>3.4</td>\n",
              "      <td>5.4</td>\n",
              "      <td>2.3</td>\n",
              "    </tr>\n",
              "    <tr>\n",
              "      <th>149</th>\n",
              "      <td>5.9</td>\n",
              "      <td>3.0</td>\n",
              "      <td>5.1</td>\n",
              "      <td>1.8</td>\n",
              "    </tr>\n",
              "  </tbody>\n",
              "</table>\n",
              "<p>150 rows × 4 columns</p>\n",
              "</div>"
            ],
            "text/plain": [
              "     sepal length (cm)  sepal width (cm)  petal length (cm)  petal width (cm)\n",
              "0                  5.1               3.5                1.4               0.2\n",
              "1                  4.9               3.0                1.4               0.2\n",
              "2                  4.7               3.2                1.3               0.2\n",
              "3                  4.6               3.1                1.5               0.2\n",
              "4                  5.0               3.6                1.4               0.2\n",
              "..                 ...               ...                ...               ...\n",
              "145                6.7               3.0                5.2               2.3\n",
              "146                6.3               2.5                5.0               1.9\n",
              "147                6.5               3.0                5.2               2.0\n",
              "148                6.2               3.4                5.4               2.3\n",
              "149                5.9               3.0                5.1               1.8\n",
              "\n",
              "[150 rows x 4 columns]"
            ]
          },
          "metadata": {
            "tags": []
          },
          "execution_count": 6
        }
      ]
    }
  ]
}