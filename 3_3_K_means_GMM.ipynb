{
  "nbformat": 4,
  "nbformat_minor": 0,
  "metadata": {
    "colab": {
      "name": "3-3_K-means_GMM.ipynb",
      "provenance": [],
      "authorship_tag": "ABX9TyOBUc3YDBR0wfXUuDy/vb4+",
      "include_colab_link": true
    },
    "kernelspec": {
      "name": "python3",
      "display_name": "Python 3"
    },
    "language_info": {
      "name": "python"
    }
  },
  "cells": [
    {
      "cell_type": "markdown",
      "metadata": {
        "id": "view-in-github",
        "colab_type": "text"
      },
      "source": [
        "<a href=\"https://colab.research.google.com/github/SWLee1212/KAIST-ML-Advanced-courses/blob/master/3_3_K_means_GMM.ipynb\" target=\"_parent\"><img src=\"https://colab.research.google.com/assets/colab-badge.svg\" alt=\"Open In Colab\"/></a>"
      ]
    },
    {
      "cell_type": "code",
      "metadata": {
        "id": "-fLYfL8MJSWF"
      },
      "source": [
        "import numpy as np\n",
        "import pandas as pd\n",
        "\n",
        "import matplotlib.pyplot as plt\n",
        "\n",
        "from sklearn.datasets import load_iris\n",
        "from sklearn.cluster import KMeans\n",
        "from sklearn.mixture import GaussianMixture\n",
        "from sklearn.datasets import make_blobs"
      ],
      "execution_count": null,
      "outputs": []
    },
    {
      "cell_type": "code",
      "metadata": {
        "id": "ytE7_bhrOr3b"
      },
      "source": [
        "# make_blobs()으로 데이터를 생성해보세요.\n",
        "X, y = make_blobs(n_samples=300,n_features=2,centers=3,cluster_std=0.8,random_state=0)\n",
        "\n",
        "# 데이터의 분포를 변형시키기 위해 transformation을 진행합니다.\n",
        "transformation = [[0.60834549, -0.63667341],[-0.40887718,0.85253229]]\n",
        "X_aniso = np.dot(X, transformation)\n",
        "\n",
        "# 데이터 프레임 만들기 \n",
        "clusterDF = pd.DataFrame(data = X_aniso, columns= ['ftr1','ftr2'])\n",
        "clusterDF['target'] = y\n",
        "target_list = np.unique(y)\n",
        "\n"
      ],
      "execution_count": null,
      "outputs": []
    },
    {
      "cell_type": "code",
      "metadata": {
        "colab": {
          "base_uri": "https://localhost:8080/",
          "height": 281
        },
        "id": "CXa9vvsLO5aj",
        "outputId": "40771122-29bd-4b77-a19a-6f6f733e99a7"
      },
      "source": [
        "def data_visualize():\n",
        "    fig, ax = plt.subplots()\n",
        "    plt.title('data')\n",
        "    \n",
        "    for target in target_list:\n",
        "        target_cluster = clusterDF[clusterDF['target'] == target]\n",
        "        ax.scatter(x = target_cluster['ftr1'], y = target_cluster['ftr2'])\n",
        "    \n",
        "    fig.savefig(\"plot.png\")\n",
        "\n",
        "data_visualize()"
      ],
      "execution_count": null,
      "outputs": [
        {
          "output_type": "display_data",
          "data": {
            "image/png": "[encoded data removed]",
            "text/plain": [
              "<Figure size 432x288 with 1 Axes>"
            ]
          },
          "metadata": {
            "tags": [],
            "needs_background": "light"
          }
        }
      ]
    },
    {
      "cell_type": "code",
      "metadata": {
        "colab": {
          "base_uri": "https://localhost:8080/",
          "height": 703
        },
        "id": "jX5qv2GvQgLD",
        "outputId": "047a22d8-d9cb-447d-d0a0-11f603916646"
      },
      "source": [
        "def K_means():\n",
        "    \n",
        "    k_means = KMeans(n_clusters=3, init='random', random_state=0)\n",
        "    \n",
        "    kmeans_label = k_means.fit(clusterDF.drop(['target'],axis=1)).labels_\n",
        "    \n",
        "    clusterDF['kmeans_label']=kmeans_label\n",
        "    \n",
        "    # Kmeans 군집의 중심값을 뽑아 저장합니다.\n",
        "    center = k_means.cluster_centers_\n",
        "    \n",
        "    # KMeans 군집 결과를 시각화합니다.\n",
        "    unique_labels = np.unique(kmeans_label)\n",
        "    fig, ax = plt.subplots()\n",
        "    plt.title('K-Means')\n",
        "    \n",
        "    for label in unique_labels:\n",
        "        label_cluster = clusterDF[clusterDF['kmeans_label'] == label]\n",
        "        center_x_y = center[label]\n",
        "        ax.scatter(x = label_cluster['ftr1'], y = label_cluster['ftr2'])\n",
        "        ax.scatter(x = center_x_y[0], y = center_x_y[1], s = 70,color = 'k', marker = '$%d$' % label)\n",
        "    \n",
        "    fig.savefig(\"plot.png\")\n",
        "    # elice_utils.send_image(\"plot.png\")\n",
        "\n",
        "    print(\"K-means Clustering\")\n",
        "    print(clusterDF.groupby('target')['kmeans_label'].value_counts())\n",
        "    \n",
        "    return kmeans_label\n",
        "\n",
        "K_means()    "
      ],
      "execution_count": 7,
      "outputs": [
        {
          "output_type": "stream",
          "text": [
            "K-means Clustering\n",
            "target  kmeans_label\n",
            "0       0               67\n",
            "        2               31\n",
            "        1                2\n",
            "1       1               97\n",
            "        0                3\n",
            "2       2               67\n",
            "        0               33\n",
            "Name: kmeans_label, dtype: int64\n"
          ],
          "name": "stdout"
        },
        {
          "output_type": "execute_result",
          "data": {
            "text/plain": [
              "array([2, 1, 0, 2, 0, 2, 0, 2, 2, 0, 1, 1, 1, 0, 1, 2, 0, 0, 2, 1, 2, 0,\n",
              "       1, 2, 2, 2, 0, 2, 1, 1, 0, 2, 0, 1, 1, 2, 1, 0, 2, 1, 2, 1, 0, 1,\n",
              "       1, 2, 1, 0, 0, 1, 2, 1, 2, 0, 1, 2, 2, 2, 2, 0, 1, 1, 0, 2, 1, 2,\n",
              "       0, 1, 2, 1, 0, 2, 2, 0, 1, 2, 1, 2, 0, 0, 2, 0, 1, 2, 2, 0, 1, 2,\n",
              "       2, 0, 0, 1, 2, 0, 1, 1, 2, 1, 2, 0, 1, 2, 2, 1, 0, 0, 2, 0, 1, 1,\n",
              "       2, 2, 0, 0, 2, 2, 2, 0, 1, 1, 1, 2, 1, 1, 1, 0, 1, 1, 1, 2, 2, 2,\n",
              "       0, 2, 0, 1, 2, 0, 2, 0, 1, 2, 1, 0, 0, 2, 2, 2, 0, 1, 0, 0, 0, 1,\n",
              "       0, 2, 1, 1, 2, 1, 2, 0, 1, 2, 2, 1, 0, 0, 0, 2, 1, 0, 2, 1, 1, 1,\n",
              "       0, 1, 2, 0, 1, 0, 0, 2, 0, 0, 1, 0, 0, 0, 0, 2, 1, 1, 2, 0, 1, 2,\n",
              "       0, 2, 1, 2, 0, 2, 1, 2, 2, 2, 2, 1, 0, 0, 2, 1, 1, 0, 1, 2, 0, 1,\n",
              "       0, 0, 1, 1, 0, 2, 0, 0, 1, 0, 2, 1, 1, 0, 1, 2, 0, 0, 0, 0, 1, 2,\n",
              "       2, 2, 2, 1, 0, 2, 0, 1, 1, 0, 1, 1, 2, 2, 1, 0, 0, 0, 2, 0, 0, 0,\n",
              "       2, 2, 0, 1, 1, 1, 1, 0, 0, 0, 0, 0, 0, 2, 1, 0, 0, 1, 1, 1, 2, 1,\n",
              "       2, 2, 1, 1, 2, 0, 0, 1, 0, 2, 2, 1, 0, 0], dtype=int32)"
            ]
          },
          "metadata": {
            "tags": []
          },
          "execution_count": 7
        },
        {
          "output_type": "display_data",
          "data": {
            "image/png": "[encoded data removed]",
            "text/plain": [
              "<Figure size 432x288 with 1 Axes>"
            ]
          },
          "metadata": {
            "tags": [],
            "needs_background": "light"
          }
        }
      ]
    },
    {
      "cell_type": "code",
      "metadata": {
        "colab": {
          "base_uri": "https://localhost:8080/",
          "height": 668
        },
        "id": "XDt6oIH3QsbD",
        "outputId": "2dddca9a-1364-4bd5-8aef-5c376c0a64b7"
      },
      "source": [
        "def GMM():\n",
        "    \n",
        "    gmm = GaussianMixture(n_components = 3, random_state=0)\n",
        "    \n",
        "    # gmm_label =  gmm.fit(clusterDF.drop(['target'],axis=1)).predict(clusterDF.drop(['target'],axis=1))\n",
        "    gmm_label =  gmm.fit_predict(clusterDF[['ftr1','ftr2']])\n",
        "    clusterDF['gmm_label']=gmm_label\n",
        "    \n",
        "    unique_labels = np.unique(gmm_label)\n",
        "    \n",
        "    # GMM 군집 결과를 시각화합니다.\n",
        "    fig, ax = plt.subplots()\n",
        "    plt.title('GMM')\n",
        "    \n",
        "    for label in unique_labels:\n",
        "        label_cluster = clusterDF[clusterDF['gmm_label'] == label]\n",
        "        plt.scatter(x = label_cluster['ftr1'], y = label_cluster['ftr2'])\n",
        "    \n",
        "    fig.savefig(\"plot.png\")\n",
        "    # elice_utils.send_image(\"plot.png\")\n",
        "    \n",
        "    print(\"Gaussian Mixture Model\")\n",
        "    print(clusterDF.groupby('target')['gmm_label'].value_counts())\n",
        "    \n",
        "    return gmm_label\n",
        "\n",
        "GMM()"
      ],
      "execution_count": 25,
      "outputs": [
        {
          "output_type": "stream",
          "text": [
            "Gaussian Mixture Model\n",
            "target  gmm_label\n",
            "0       0            100\n",
            "1       1             98\n",
            "        0              2\n",
            "2       2             92\n",
            "        0              8\n",
            "Name: gmm_label, dtype: int64\n"
          ],
          "name": "stdout"
        },
        {
          "output_type": "execute_result",
          "data": {
            "text/plain": [
              "array([0, 1, 0, 2, 2, 2, 0, 0, 2, 0, 1, 1, 1, 0, 1, 2, 0, 0, 2, 1, 2, 0,\n",
              "       1, 0, 2, 2, 0, 2, 1, 1, 2, 0, 0, 1, 1, 2, 1, 2, 0, 1, 2, 1, 0, 1,\n",
              "       1, 2, 1, 2, 2, 1, 2, 0, 2, 2, 1, 0, 0, 2, 2, 0, 1, 1, 0, 2, 1, 2,\n",
              "       0, 1, 0, 1, 2, 0, 2, 2, 1, 0, 1, 2, 0, 0, 2, 0, 1, 0, 0, 0, 1, 2,\n",
              "       0, 0, 2, 1, 2, 0, 1, 1, 0, 1, 2, 0, 1, 2, 0, 1, 0, 0, 2, 0, 1, 1,\n",
              "       0, 2, 0, 0, 2, 2, 0, 0, 1, 1, 1, 2, 1, 1, 1, 2, 1, 1, 1, 2, 2, 2,\n",
              "       0, 2, 2, 1, 2, 0, 2, 2, 1, 0, 1, 0, 2, 2, 0, 2, 2, 1, 0, 2, 0, 1,\n",
              "       2, 2, 1, 1, 0, 1, 0, 0, 1, 0, 2, 0, 0, 0, 0, 2, 1, 0, 0, 1, 1, 1,\n",
              "       0, 1, 0, 0, 1, 2, 0, 0, 0, 0, 1, 2, 0, 2, 0, 0, 1, 1, 2, 0, 1, 2,\n",
              "       0, 2, 1, 2, 0, 2, 1, 2, 0, 2, 0, 1, 0, 0, 2, 1, 1, 1, 1, 0, 2, 1,\n",
              "       0, 1, 1, 1, 0, 2, 2, 0, 0, 0, 0, 1, 1, 0, 1, 2, 2, 2, 0, 0, 1, 2,\n",
              "       2, 2, 2, 1, 0, 2, 0, 1, 1, 0, 1, 1, 2, 0, 1, 2, 0, 0, 2, 0, 2, 2,\n",
              "       0, 2, 0, 1, 1, 1, 1, 0, 0, 0, 0, 0, 2, 2, 1, 0, 0, 1, 1, 1, 2, 1,\n",
              "       2, 2, 1, 1, 2, 2, 0, 1, 0, 0, 0, 1, 0, 0])"
            ]
          },
          "metadata": {
            "tags": []
          },
          "execution_count": 25
        },
        {
          "output_type": "display_data",
          "data": {
            "image/png": "[encoded data removed]",
            "text/plain": [
              "<Figure size 432x288 with 1 Axes>"
            ]
          },
          "metadata": {
            "tags": [],
            "needs_background": "light"
          }
        }
      ]
    },
    {
      "cell_type": "code",
      "metadata": {
        "colab": {
          "base_uri": "https://localhost:8080/",
          "height": 402
        },
        "id": "uXyVUI87SUNV",
        "outputId": "571e8cba-12e2-45b2-dd54-1b78cf6923d6"
      },
      "source": [
        "clusterDF[['ftr1','ftr2']]"
      ],
      "execution_count": 24,
      "outputs": [
        {
          "output_type": "execute_result",
          "data": {
            "text/html": [
              "<div>\n",
              "<style scoped>\n",
              "    .dataframe tbody tr th:only-of-type {\n",
              "        vertical-align: middle;\n",
              "    }\n",
              "\n",
              "    .dataframe tbody tr th {\n",
              "        vertical-align: top;\n",
              "    }\n",
              "\n",
              "    .dataframe thead th {\n",
              "        text-align: right;\n",
              "    }\n",
              "</style>\n",
              "<table border=\"1\" class=\"dataframe\">\n",
              "  <thead>\n",
              "    <tr style=\"text-align: right;\">\n",
              "      <th></th>\n",
              "      <th>ftr1</th>\n",
              "      <th>ftr2</th>\n",
              "    </tr>\n",
              "  </thead>\n",
              "  <tbody>\n",
              "    <tr>\n",
              "      <th>0</th>\n",
              "      <td>-1.975438</td>\n",
              "      <td>4.274322</td>\n",
              "    </tr>\n",
              "    <tr>\n",
              "      <th>1</th>\n",
              "      <td>0.982648</td>\n",
              "      <td>-1.117162</td>\n",
              "    </tr>\n",
              "    <tr>\n",
              "      <th>2</th>\n",
              "      <td>-0.835232</td>\n",
              "      <td>2.742912</td>\n",
              "    </tr>\n",
              "    <tr>\n",
              "      <th>3</th>\n",
              "      <td>-2.227315</td>\n",
              "      <td>3.636009</td>\n",
              "    </tr>\n",
              "    <tr>\n",
              "      <th>4</th>\n",
              "      <td>-1.874196</td>\n",
              "      <td>2.832208</td>\n",
              "    </tr>\n",
              "    <tr>\n",
              "      <th>...</th>\n",
              "      <td>...</td>\n",
              "      <td>...</td>\n",
              "    </tr>\n",
              "    <tr>\n",
              "      <th>295</th>\n",
              "      <td>-1.881669</td>\n",
              "      <td>3.724479</td>\n",
              "    </tr>\n",
              "    <tr>\n",
              "      <th>296</th>\n",
              "      <td>-2.011043</td>\n",
              "      <td>3.784595</td>\n",
              "    </tr>\n",
              "    <tr>\n",
              "      <th>297</th>\n",
              "      <td>0.945651</td>\n",
              "      <td>-1.020937</td>\n",
              "    </tr>\n",
              "    <tr>\n",
              "      <th>298</th>\n",
              "      <td>-1.257936</td>\n",
              "      <td>2.863233</td>\n",
              "    </tr>\n",
              "    <tr>\n",
              "      <th>299</th>\n",
              "      <td>-0.785571</td>\n",
              "      <td>2.036018</td>\n",
              "    </tr>\n",
              "  </tbody>\n",
              "</table>\n",
              "<p>300 rows × 2 columns</p>\n",
              "</div>"
            ],
            "text/plain": [
              "         ftr1      ftr2\n",
              "0   -1.975438  4.274322\n",
              "1    0.982648 -1.117162\n",
              "2   -0.835232  2.742912\n",
              "3   -2.227315  3.636009\n",
              "4   -1.874196  2.832208\n",
              "..        ...       ...\n",
              "295 -1.881669  3.724479\n",
              "296 -2.011043  3.784595\n",
              "297  0.945651 -1.020937\n",
              "298 -1.257936  2.863233\n",
              "299 -0.785571  2.036018\n",
              "\n",
              "[300 rows x 2 columns]"
            ]
          },
          "metadata": {
            "tags": []
          },
          "execution_count": 24
        }
      ]
    },
    {
      "cell_type": "code",
      "metadata": {
        "id": "-fOvB0iZVqqs"
      },
      "source": [
        "import numpy as np\n",
        "import pandas as pd\n",
        "\n",
        "import matplotlib.pyplot as plt\n",
        "\n",
        "from sklearn.datasets import load_iris\n",
        "from sklearn.cluster import KMeans\n",
        "from sklearn.mixture import GaussianMixture\n",
        "from sklearn.datasets import make_blobs\n",
        "\n",
        "from elice_utils import EliceUtils\n",
        "elice_utils = EliceUtils()\n",
        "\n",
        "\"\"\"\n",
        "1. 지시 사항과 동일한 타원형 분포의 데이터를\n",
        "   생성합니다.\n",
        "   \n",
        "   Step01. 타원형 분포의 데이터를 생성합니다.\n",
        "           \n",
        "           데이터의 개수는 300개,\n",
        "           데이터 변수의 개수는 2개,\n",
        "           군집의 개수는 3개,\n",
        "           데이터의 표준편차는 0.8,\n",
        "           random_state 는 0으로 설정합니다.\n",
        "\"\"\"\n",
        "# make_blobs()으로 데이터를 생성해보세요.\n",
        "X, y = make_blobs(n_samples=300,n_features=2,centers=3,cluster_std=0.8,random_state=0)\n",
        "\n",
        "# 데이터의 분포를 변형시키기 위해 transformation을 진행합니다.\n",
        "transformation = [[0.60834549, -0.63667341],[-0.40887718,0.85253229]]\n",
        "X_aniso = np.dot(X, transformation)\n",
        "\n",
        "# 데이터 프레임 만들기 \n",
        "clusterDF = pd.DataFrame(data = X_aniso, columns= ['ftr1','ftr2'])\n",
        "clusterDF['target'] = y\n",
        "target_list = np.unique(y)\n",
        "\n",
        "# 생성된 데이터 시각화\n",
        "def data_visualize():\n",
        "    fig, ax = plt.subplots()\n",
        "    plt.title('data')\n",
        "    \n",
        "    for target in target_list:\n",
        "        target_cluster = clusterDF[clusterDF['target'] == target]\n",
        "        ax.scatter(x = target_cluster['ftr1'], y = target_cluster['ftr2'])\n",
        "    \n",
        "    fig.savefig(\"plot.png\")\n",
        "    elice_utils.send_image(\"plot.png\")\n",
        "    \n",
        "    \n",
        "\"\"\"\n",
        "2. K-Means 클러스터링을 수행하여\n",
        "   클러스터링 결과를 데이터 프레임 내에 \n",
        "   저장하는 함수를 완성합니다.\n",
        "   \n",
        "   Step01. 데이터 X_aniso에 대한 K-Means \n",
        "           클러스터링을 수행합니다.\n",
        "           \n",
        "           초기화 방식은 랜덤,\n",
        "           군집의 개수는 3개, \n",
        "           random_state는 0으로 설정합니다.\n",
        "           \n",
        "    Step02. kmeans_label 변수에\n",
        "            클러스터링 결과를 저장합니다.\n",
        "\"\"\"\n",
        "def K_means():\n",
        "    \n",
        "    k_means = KMeans(n_clusters=3, init='random', random_state=0)\n",
        "    \n",
        "    kmeans_label = k_means.fit(clusterDF.drop(['target'],axis=1)).labels_\n",
        "    \n",
        "    clusterDF['kmeans_label']=kmeans_label\n",
        "    \n",
        "    # Kmeans 군집의 중심값을 뽑아 저장합니다.\n",
        "    center = k_means.cluster_centers_\n",
        "    \n",
        "    # KMeans 군집 결과를 시각화합니다.\n",
        "    unique_labels = np.unique(kmeans_label)\n",
        "    fig, ax = plt.subplots()\n",
        "    plt.title('K-Means')\n",
        "    \n",
        "    for label in unique_labels:\n",
        "        label_cluster = clusterDF[clusterDF['kmeans_label'] == label]\n",
        "        center_x_y = center[label]\n",
        "        ax.scatter(x = label_cluster['ftr1'], y = label_cluster['ftr2'])\n",
        "        ax.scatter(x = center_x_y[0], y = center_x_y[1], s = 70,color = 'k', marker = '$%d$' % label)\n",
        "    \n",
        "    fig.savefig(\"plot.png\")\n",
        "    elice_utils.send_image(\"plot.png\")\n",
        "\n",
        "    print(\"K-means Clustering\")\n",
        "    print(clusterDF.groupby('target')['kmeans_label'].value_counts())\n",
        "    \n",
        "    return kmeans_label\n",
        "    \n",
        "\"\"\"\n",
        "3. GMM 클러스터링을 수행하여\n",
        "   클러스터링 결과를 데이터 프레임 내에 \n",
        "   저장하는 함수를 완성합니다.\n",
        "   \n",
        "   Step01. 데이터 X_aniso에 대한 \n",
        "           GMM 클러스터링을 수행합니다.\n",
        "           \n",
        "           군집의 개수는 3개, \n",
        "           random_state는 0으로 설정합니다.\n",
        "           \n",
        "   Step02. gmm_label 변수에\n",
        "           클러스터링 결과를 저장합니다.\n",
        "            \n",
        "\"\"\"\n",
        "def GMM():\n",
        "    \n",
        "    gmm = GaussianMixture(n_components = 3, random_state=0)\n",
        "    \n",
        "    # gmm_label =  gmm.fit(clusterDF.drop(['target'],axis=1)).predict(clusterDF.drop(['target'],axis=1))\n",
        "    gmm_label = gmm.fit_predict(clusterDF[['ftr1','ftr2']])\n",
        "    \n",
        "    clusterDF['gmm_label']=gmm_label\n",
        "    \n",
        "    unique_labels = np.unique(gmm_label)\n",
        "    \n",
        "    # GMM 군집 결과를 시각화합니다.\n",
        "    fig, ax = plt.subplots()\n",
        "    plt.title('GMM')\n",
        "    \n",
        "    for label in unique_labels:\n",
        "        label_cluster = clusterDF[clusterDF['gmm_label'] == label]\n",
        "        plt.scatter(x = label_cluster['ftr1'], y = label_cluster['ftr2'])\n",
        "    \n",
        "    fig.savefig(\"plot.png\")\n",
        "    elice_utils.send_image(\"plot.png\")\n",
        "    \n",
        "    print(\"Gaussian Mixture Model\")\n",
        "    print(clusterDF.groupby('target')['gmm_label'].value_counts())\n",
        "    \n",
        "    return gmm_label\n",
        "\n",
        "def main():\n",
        "    data_visualize()\n",
        "    K_means()\n",
        "    GMM()\n",
        "\n",
        "if __name__ == \"__main__\":\n",
        "    main()\n"
      ],
      "execution_count": null,
      "outputs": []
    }
  ]
}