{
  "nbformat": 4,
  "nbformat_minor": 0,
  "metadata": {
    "colab": {
      "name": "1-9_회귀 알고리즘 평가지표-MSE_MAE.ipynb",
      "provenance": [],
      "authorship_tag": "ABX9TyNYQhIbtuVRRECjOO8VkMlb",
      "include_colab_link": true
    },
    "kernelspec": {
      "name": "python3",
      "display_name": "Python 3"
    },
    "language_info": {
      "name": "python"
    }
  },
  "cells": [
    {
      "cell_type": "markdown",
      "metadata": {
        "id": "view-in-github",
        "colab_type": "text"
      },
      "source": [
        "<a href=\"https://colab.research.google.com/github/SWLee1212/KAIST-ML-Advanced-courses/blob/master/1_9_%ED%9A%8C%EA%B7%80_%EC%95%8C%EA%B3%A0%EB%A6%AC%EC%A6%98_%ED%8F%89%EA%B0%80%EC%A7%80%ED%91%9C_MSE_MAE.ipynb\" target=\"_parent\"><img src=\"https://colab.research.google.com/assets/colab-badge.svg\" alt=\"Open In Colab\"/></a>"
      ]
    },
    {
      "cell_type": "code",
      "metadata": {
        "colab": {
          "base_uri": "https://localhost:8080/",
          "height": 300
        },
        "id": "z1dNR-0l-D3V",
        "outputId": "fe3b0e6b-a9f7-48da-fee1-a0f1016cab62"
      },
      "source": [
        "# from elice_utils import EliceUtils\n",
        "# elice_utils = EliceUtils()\n",
        "\n",
        "import matplotlib.pyplot as plt\n",
        "import pandas as pd\n",
        "import numpy as np\n",
        "\n",
        "from sklearn.model_selection import train_test_split\n",
        "from sklearn.linear_model import LinearRegression\n",
        "\n",
        "from sklearn.metrics import mean_absolute_error\n",
        "from sklearn.metrics import mean_squared_error\n",
        "\n",
        "# 데이터 X와 y를 생성하고, 학습용 데이터와 테스트용 데이터로 분리하여 반환하는 함수입니다.\n",
        "def load_data():\n",
        "    \n",
        "    np.random.seed(0)\n",
        "    \n",
        "    X = 5*np.random.rand(100,1)\n",
        "    y = 3*X + 5*np.random.rand(100,1)\n",
        "    \n",
        "    train_X, test_X, train_y, test_y = train_test_split(X,y,test_size=0.3, random_state=0)\n",
        "    \n",
        "    return train_X, train_y, test_X, test_y\n",
        "\n",
        "# 회귀 모델을 불러오고, 불러온 모델을 학습용 데이터에 맞춰 학습시켜 반환하는 함수입니다.\n",
        "def Linear_Regression(train_X, train_y):\n",
        "    \n",
        "    lr = LinearRegression()\n",
        "    \n",
        "    lr.fit(train_X,train_y)\n",
        "    \n",
        "    return lr\n",
        "    \n",
        "# 그래프로 시각화합니다.\n",
        "def plotting_graph(test_X, test_y, predicted):\n",
        "    plt.scatter(test_X,test_y)\n",
        "    plt.plot(test_X, predicted, color='r')\n",
        "    \n",
        "    plt.savefig(\"result.png\")\n",
        "    # elice_utils.send_image(\"result.png\")\n",
        "\n",
        "\"\"\"\n",
        "1. 정의한 함수들을 이용하여 main() 함수를 완성합니다.\n",
        "   \n",
        "   Step01. 생성한 데이터를 \n",
        "           학습용 데이터와 테스트 데이터로 \n",
        "           분리하여 반환하는 함수를 호출합니다.\n",
        "           \n",
        "   Step02. 학습용 데이터를 바탕으로 학습한 선형 회귀\n",
        "           모델을 반환하는 함수를 호출합니다.\n",
        "          \n",
        "   Step03. 학습된 모델을 바탕으로 계산된 \n",
        "           테스트 데이터의 예측값을 predicted에\n",
        "           저장합니다.\n",
        "           \n",
        "   Step04. 회귀 알고리즘을 평가하기 위한 MSE, MAE 값을 \n",
        "           각각 MSE,MAE 에 저장합니다.\n",
        "\"\"\"\n",
        "def main():\n",
        "    \n",
        "    train_X, train_y, test_X, test_y = load_data()\n",
        "    \n",
        "    lr = Linear_Regression(train_X, train_y)\n",
        "    \n",
        "    predicted = lr.predict(test_X)\n",
        "    \n",
        "    MAE = mean_absolute_error(test_y, predicted)\n",
        "    MSE = mean_squared_error(test_y, predicted)\n",
        "    \n",
        "    print(\"> MSE :\",MSE)\n",
        "    print(\"> MAE :\",MAE)\n",
        "    \n",
        "    plotting_graph(test_X, test_y, predicted)\n",
        "    \n",
        "    return MSE, MAE\n",
        "\n",
        "if __name__==\"__main__\":\n",
        "    main()"
      ],
      "execution_count": 1,
      "outputs": [
        {
          "output_type": "stream",
          "text": [
            "> MSE : 2.0890663766577946\n",
            "> MAE : 1.220841984510205\n"
          ],
          "name": "stdout"
        },
        {
          "output_type": "display_data",
          "data": {
            "image/png": "[encoded data removed]",
            "text/plain": [
              "<Figure size 432x288 with 1 Axes>"
            ]
          },
          "metadata": {
            "tags": [],
            "needs_background": "light"
          }
        }
      ]
    }
  ]
}