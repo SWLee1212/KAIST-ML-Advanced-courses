{
  "nbformat": 4,
  "nbformat_minor": 0,
  "metadata": {
    "colab": {
      "name": "2-4_GaussianNB.ipynb",
      "provenance": [],
      "authorship_tag": "ABX9TyPu3l19bHwtK+syWzXCM1J4",
      "include_colab_link": true
    },
    "kernelspec": {
      "name": "python3",
      "display_name": "Python 3"
    },
    "language_info": {
      "name": "python"
    }
  },
  "cells": [
    {
      "cell_type": "markdown",
      "metadata": {
        "id": "view-in-github",
        "colab_type": "text"
      },
      "source": [
        "<a href=\"https://colab.research.google.com/github/SWLee1212/KAIST-ML-Advanced-courses/blob/master/2_4_GaussianNB.ipynb\" target=\"_parent\"><img src=\"https://colab.research.google.com/assets/colab-badge.svg\" alt=\"Open In Colab\"/></a>"
      ]
    },
    {
      "cell_type": "code",
      "metadata": {
        "id": "-KaXoe6Ebb-g"
      },
      "source": [
        "from sklearn.datasets import load_wine\n",
        "\n",
        "from sklearn.model_selection import train_test_split\n",
        "from sklearn.naive_bayes import GaussianNB\n",
        "from sklearn.metrics import accuracy_score\n",
        "\n",
        "\"\"\"\n",
        "1. 데이터를 불러오고, \n",
        "   불러온 데이터를 학습용, 테스트용 데이터로 \n",
        "   분리하여 반환하는 함수를 구현합니다.\n",
        "   \n",
        "   Step01. 사이킷런에 저장되어 있는 데이터를 \n",
        "           (X, y) 형태로 불러옵니다.\n",
        "   \n",
        "   Step02. 불러온 데이터를 \n",
        "           학습용 데이터와 테스트용 데이터로 분리합니다.\n",
        "           \n",
        "           학습용 데이터 : 80%, 테스트용 데이터 : 20%, \n",
        "           \n",
        "           일관된 결과 확인을 위해 random_state를 \n",
        "           0 으로 설정합니다.\n",
        "\"\"\"\n",
        "def load_data():\n",
        "    \n",
        "    X, y = load_wine(return_X_y=True)\n",
        "    \n",
        "    print(\"데이터 확인해보기 :\\n\", X[:1])\n",
        "    \n",
        "    train_X, test_X, train_y, test_y = train_test_split(X, y, test_size = 0.2, random_state = 0)\n",
        "    \n",
        "    return train_X, test_X, train_y, test_y\n",
        "    \n",
        "\"\"\"\n",
        "2. 가우시안 나이브 베이즈 모델을 불러오고,\n",
        "   학습을 진행한 후 테스트 데이터에 대한 \n",
        "   예측값을 반환하는 함수를 구현합니다.\n",
        "   \n",
        "   Step01. 가우시안 나이브 베이즈 모델을 정의합니다.\n",
        "   \n",
        "   Step02. 학습용 데이터에 대해 모델을 학습시킵니다.\n",
        "   \n",
        "   Step03. 테스트 데이터에 대한 모델 예측을 수행합니다.\n",
        "\"\"\"\n",
        "def Gaussian_NB(train_X, test_X, train_y, test_y):\n",
        "    \n",
        "    model = GaussianNB()\n",
        "    \n",
        "    model.fit(train_X, train_y)\n",
        "    \n",
        "    predicted = model.predict(test_X)\n",
        "    \n",
        "    return predicted\n",
        "    \n",
        "# 데이터 불러오기, 모델 예측 결과를 확인할 수 있는 함수입니다.\n",
        "def main():\n",
        "    \n",
        "    train_X, test_X, train_y, test_y = load_data()\n",
        "    \n",
        "    predicted = Gaussian_NB(train_X, test_X, train_y, test_y)\n",
        "    \n",
        "    ## 모델 정확도를 통해 분류 성능을 확인해봅니다.\n",
        "    print(\"\\nModel Accuracy : \")\n",
        "    print(accuracy_score(test_y, predicted))\n",
        "\n",
        "if __name__ == \"__main__\":\n",
        "    main()\n"
      ],
      "execution_count": null,
      "outputs": []
    },
    {
      "cell_type": "code",
      "metadata": {
        "id": "4BBVHQ-XhQAn"
      },
      "source": [
        "from sklearn.datasets import load_wine\n",
        "\n",
        "from sklearn.model_selection import train_test_split\n",
        "from sklearn.naive_bayes import GaussianNB\n",
        "from sklearn.metrics import accuracy_score"
      ],
      "execution_count": 1,
      "outputs": []
    },
    {
      "cell_type": "code",
      "metadata": {
        "id": "PUyHwWEfhTJm"
      },
      "source": [
        "X,y = load_wine(return_X_y=True)"
      ],
      "execution_count": 2,
      "outputs": []
    },
    {
      "cell_type": "code",
      "metadata": {
        "colab": {
          "base_uri": "https://localhost:8080/"
        },
        "id": "sMNtBjC0hYGO",
        "outputId": "7c5bf54d-5433-4e5a-b141-f0676d7c5768"
      },
      "source": [
        "X"
      ],
      "execution_count": 3,
      "outputs": [
        {
          "output_type": "execute_result",
          "data": {
            "text/plain": [
              "array([[1.423e+01, 1.710e+00, 2.430e+00, ..., 1.040e+00, 3.920e+00,\n",
              "        1.065e+03],\n",
              "       [1.320e+01, 1.780e+00, 2.140e+00, ..., 1.050e+00, 3.400e+00,\n",
              "        1.050e+03],\n",
              "       [1.316e+01, 2.360e+00, 2.670e+00, ..., 1.030e+00, 3.170e+00,\n",
              "        1.185e+03],\n",
              "       ...,\n",
              "       [1.327e+01, 4.280e+00, 2.260e+00, ..., 5.900e-01, 1.560e+00,\n",
              "        8.350e+02],\n",
              "       [1.317e+01, 2.590e+00, 2.370e+00, ..., 6.000e-01, 1.620e+00,\n",
              "        8.400e+02],\n",
              "       [1.413e+01, 4.100e+00, 2.740e+00, ..., 6.100e-01, 1.600e+00,\n",
              "        5.600e+02]])"
            ]
          },
          "metadata": {
            "tags": []
          },
          "execution_count": 3
        }
      ]
    }
  ]
}