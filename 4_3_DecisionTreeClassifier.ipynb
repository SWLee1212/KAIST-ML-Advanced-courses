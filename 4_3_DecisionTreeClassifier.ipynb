{
  "nbformat": 4,
  "nbformat_minor": 0,
  "metadata": {
    "colab": {
      "name": "4-3-DecisionTreeClassifier.ipynb",
      "provenance": [],
      "authorship_tag": "ABX9TyM5tp7nXGQ8HcmhOgd2Z4Yv",
      "include_colab_link": true
    },
    "kernelspec": {
      "name": "python3",
      "display_name": "Python 3"
    },
    "language_info": {
      "name": "python"
    }
  },
  "cells": [
    {
      "cell_type": "markdown",
      "metadata": {
        "id": "view-in-github",
        "colab_type": "text"
      },
      "source": [
        "<a href=\"https://colab.research.google.com/github/SWLee1212/KAIST-ML-Advanced-courses/blob/master/4_3_DecisionTreeClassifier.ipynb\" target=\"_parent\"><img src=\"https://colab.research.google.com/assets/colab-badge.svg\" alt=\"Open In Colab\"/></a>"
      ]
    },
    {
      "cell_type": "code",
      "metadata": {
        "id": "fz-fx4_NhRfx"
      },
      "source": [
        "from sklearn.datasets import load_iris\n",
        "from sklearn.tree import DecisionTreeClassifier\n",
        "from sklearn.model_selection import train_test_split\n",
        "from sklearn.metrics import accuracy_score\n",
        "\n",
        "from elice_utils import EliceUtils\n",
        "elice_utils = EliceUtils()\n",
        "\n",
        "\"\"\"\n",
        "1. 데이터를 불러오고,\n",
        "   학습용 데이터와 테스트용 데이터로 분리하여 \n",
        "   반환하는 함수를 구현합니다.\n",
        "   \n",
        "   Step01. 사이킷런에 저장된 데이터를 불러옵니다.\n",
        "   \n",
        "   Step02. 불러온 데이터를 \n",
        "           학습용 데이터(80%)와 테스트용 데이터(20%)로\n",
        "           분리합니다.\n",
        "           \n",
        "           일관된 결과 확인을 위해 random_state는 \n",
        "           100으로 설정합니다.\n",
        "\"\"\"\n",
        "def load_data():\n",
        "    \n",
        "    X, y = load_iris(return_X_y = True)\n",
        "    \n",
        "    train_X, test_X, train_y, test_y = train_test_split(X,y, test_size = 0.2,random_state=100)\n",
        "    \n",
        "    return train_X, test_X, train_y, test_y\n",
        "    \n",
        "\"\"\"\n",
        "2. 분류 의사결정 나무 모델로 \n",
        "   학습, 예측을 수행한 후 예측 결과를 반환하는 함수를 구현합니다.\n",
        "   \n",
        "   Step01. 분류를 위한 \n",
        "           의사 결정 나무 모델을 정의합니다.\n",
        "           \n",
        "   Step02. 의사 결정 나무를 \n",
        "           학습용 데이터에 대해 학습시킵니다.\n",
        "           \n",
        "   Step03. 테스트 데이터에 대한 \n",
        "           분류 결과를 예측합니다.\n",
        "\"\"\"\n",
        "def DT_Clf(train_X, train_y, test_X):\n",
        "    \n",
        "    clf = DecisionTreeClassifier()\n",
        "    \n",
        "    clf.fit(train_X, train_y)\n",
        "    \n",
        "    pred = clf.predict(test_X)\n",
        "    \n",
        "    return pred\n",
        "\n",
        "def main():\n",
        "    \n",
        "    train_X, test_X, train_y, test_y = load_data()\n",
        "    \n",
        "    pred = DT_Clf(train_X, train_y, test_X)\n",
        "    print('테스트 데이터에 대한 예측 정확도 : {0:.4f}'.format(accuracy_score(test_y, pred)))\n",
        "    \n",
        "    return pred\n",
        "    \n",
        "if __name__ == \"__main__\":\n",
        "    main()\n"
      ],
      "execution_count": null,
      "outputs": []
    }
  ]
}