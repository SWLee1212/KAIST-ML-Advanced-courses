{
  "nbformat": 4,
  "nbformat_minor": 0,
  "metadata": {
    "colab": {
      "name": "실습1.ipynb",
      "provenance": [],
      "collapsed_sections": [],
      "authorship_tag": "ABX9TyOoK6cWgxgSgFE8Nq5ENpgJ",
      "include_colab_link": true
    },
    "kernelspec": {
      "name": "python3",
      "display_name": "Python 3"
    },
    "language_info": {
      "name": "python"
    }
  },
  "cells": [
    {
      "cell_type": "markdown",
      "metadata": {
        "id": "view-in-github",
        "colab_type": "text"
      },
      "source": [
        "<a href=\"https://colab.research.google.com/github/SWLee1212/KAIST-ML-Advanced-courses/blob/master/%EC%8B%A4%EC%8A%B51.ipynb\" target=\"_parent\"><img src=\"https://colab.research.google.com/assets/colab-badge.svg\" alt=\"Open In Colab\"/></a>"
      ]
    },
    {
      "cell_type": "code",
      "metadata": {
        "colab": {
          "base_uri": "https://localhost:8080/"
        },
        "id": "TpGwc5iH_5l0",
        "outputId": "a17edcc0-94c6-49eb-cc67-8f211178cc34"
      },
      "source": [
        "import pandas as pd\n",
        "import matplotlib.pyplot as plt\n",
        "\n",
        "from sklearn.model_selection import train_test_split\n",
        "\n",
        "from sklearn.datasets import load_diabetes\n",
        "from sklearn.linear_model import LinearRegression\n",
        "from sklearn.metrics import r2_score\n",
        "\n",
        "\n",
        "\"\"\"\n",
        "    1. 학습을 위한 준비가 완료된 데이터를 반환하는\n",
        "       load_data() 함수를 구현합니다.\n",
        "       \n",
        "       Step01. 당뇨병 관련 데이터셋을 불러옵니다.\n",
        "              \n",
        "       Step02. 모델 학습을 위해 데이터를 \n",
        "               학습용(80%)/테스트용(20%)로 분리합니다.\n",
        "               (random_state = 100)\n",
        "\"\"\"\n",
        "\n",
        "def load_data():\n",
        "    \n",
        "    X,y= load_diabetes(return_X_y = True)\n",
        "\n",
        "    train_X, test_X, train_y, test_y = train_test_split(X,y,test_size = 0.2,random_state = 100)\n",
        "    \n",
        "    return train_X, test_X, train_y, test_y\n",
        "    \n",
        "    \n",
        "\"\"\"\n",
        "    2. 회귀 모델을 불러오고,\n",
        "       테스트 데이터에 대한 예측 결과를 반환하는\n",
        "       reg_model() 함수를 구현합니다.\n",
        "\"\"\"\n",
        "def reg_model(train_X, test_X, train_y):\n",
        "    \n",
        "    lr = LinearRegression()\n",
        "\n",
        "    lr.fit(train_X, train_y)\n",
        "\n",
        "    pred = lr.predict(test_X)\n",
        "    \n",
        "    return pred\n",
        "    \n",
        "\n",
        "\"\"\"\n",
        "    3. 구현한 회귀 모델의 r_square 값을\n",
        "       반환하는 r_square() 함수를 구현합니다.\n",
        "\n",
        "\"\"\"\n",
        "def r_square(pred, test_y):\n",
        "    \n",
        "    r2  = r2_score(test_y, pred)\n",
        "    return r2\n",
        "    \n",
        "    \n",
        "\"\"\"\n",
        "    4. 구현한 함수들을 활용하여 \n",
        "       당뇨병 데이터에 대한 회귀를 진행하는 \n",
        "       main() 함수를 구현합니다.\n",
        "\"\"\"\n",
        "def main():\n",
        "    \n",
        "    train_X, test_X, train_y, test_y = load_data()\n",
        "    \n",
        "    pred = reg_model(train_X, test_X, train_y)\n",
        "\n",
        "    r2 = r_square(pred, test_y)\n",
        "    \n",
        "    print(\"r2 score : \",r2)\n",
        "    \n",
        "    \n",
        "if __name__ == \"__main__\":\n",
        "    main()"
      ],
      "execution_count": 3,
      "outputs": [
        {
          "output_type": "stream",
          "text": [
            "r2 score :  0.5041759376283347\n"
          ],
          "name": "stdout"
        }
      ]
    }
  ]
}