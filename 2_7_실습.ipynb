{
  "nbformat": 4,
  "nbformat_minor": 0,
  "metadata": {
    "colab": {
      "name": "2-7_실습.ipynb",
      "provenance": [],
      "collapsed_sections": [],
      "authorship_tag": "ABX9TyPt4V0upxRNVzdURSh53jK7",
      "include_colab_link": true
    },
    "kernelspec": {
      "name": "python3",
      "display_name": "Python 3"
    },
    "language_info": {
      "name": "python"
    }
  },
  "cells": [
    {
      "cell_type": "markdown",
      "metadata": {
        "id": "view-in-github",
        "colab_type": "text"
      },
      "source": [
        "<a href=\"https://colab.research.google.com/github/SWLee1212/KAIST-ML-Advanced-courses/blob/master/2_7_%EC%8B%A4%EC%8A%B5.ipynb\" target=\"_parent\"><img src=\"https://colab.research.google.com/assets/colab-badge.svg\" alt=\"Open In Colab\"/></a>"
      ]
    },
    {
      "cell_type": "code",
      "metadata": {
        "id": "5U89NcQgP_XA",
        "colab": {
          "base_uri": "https://localhost:8080/",
          "height": 380
        },
        "outputId": "f39dbe94-48d5-482f-93ea-3d36ff04cbdc"
      },
      "source": [
        "from elice_utils import EliceUtils\n",
        "elice_utils = EliceUtils()\n",
        "\n",
        "from sklearn.model_selection import train_test_split\n",
        "from draw_image import draw_digit_images\n",
        "from sklearn.datasets import load_digits\n",
        "\n",
        "from sklearn.svm import SVC\n",
        "\n",
        "from sklearn.metrics import confusion_matrix\n",
        "from sklearn.metrics import recall_score\n",
        "from sklearn.metrics import precision_score\n",
        "from sklearn.metrics import accuracy_score\n",
        "\n",
        "import warnings\n",
        "warnings.filterwarnings(action = 'ignore')\n",
        "\n",
        "\"\"\"\n",
        "    1. digits 데이터를 불러오고,\n",
        "       학습을 위한 전처리를 진행하는 \n",
        "       load_data() 함수를 구현합니다.\n",
        "       \n",
        "       Step01. digits 데이터를 불러옵니다.\n",
        "       \n",
        "       Step02. 불러온 데이터를 (데이터 개수, -1)\n",
        "               로 reshape 합니다.\n",
        "       \n",
        "       Step03. reshape 한 데이터를 학습용 데이터와 \n",
        "               테스트용 데이터로 분리합니다.\n",
        "               (train:80%, test:20%, random_state:100)\n",
        "\"\"\"\n",
        "def load_data():\n",
        "    \n",
        "    X,y = load_digits(return_X_y = True)\n",
        "    X = X.reshape(len(X),-1)\n",
        "    y = y.reshape(len(y),-1)\n",
        "    \n",
        "    train_X, test_X, train_y, test_y = train_test_split(X, y, test_size = 0.2, random_state = 100)\n",
        "    \n",
        "    return train_X, test_X, train_y, test_y\n",
        "    \n",
        "    \n",
        "\"\"\"\n",
        "    2. SVM 분류기를 활용하여 \n",
        "       테스트 데이터에 대한 예측값을 반환하는 \n",
        "       SVM_clf() 함수를 구현합니다.\n",
        "\"\"\"\n",
        "def SVM_clf(train_X, test_X, train_y):\n",
        "    \n",
        "    svm = SVC()\n",
        "    \n",
        "    pred = svm.fit(train_X,train_y).predict(test_X)\n",
        "    \n",
        "    return pred\n",
        "\n",
        "\n",
        "\"\"\"\n",
        "    3. 출력된 Confusion Matrix 를 통해 \n",
        "       3번째 인덱스의 precision과 recall, \n",
        "       그리고 전체 데이터에 대한 accuracy를 \n",
        "       계산하여 반환하는 cal_eval() 함수를 구현합니다.\n",
        "\n",
        "\"\"\"\n",
        "def cal_eval(test_y, pred):\n",
        "    \n",
        "    \n",
        "    index_3_precision = precision_score(test_y, pred ,average=None)\n",
        "    index_3_recall = recall_score(test_y, pred, average=None)\n",
        "    accuracy = accuracy_score(test_y, pred)\n",
        "    \n",
        "    print(index_3_precision)\n",
        "    print(index_3_recall)\n",
        "    \n",
        "    \n",
        "    return index_3_precision[3], index_3_recall[3], accuracy\n",
        "\n",
        "\"\"\"\n",
        "    4. 구현한 함수를 활용하여 다중 클래스 분류를 진행하고,\n",
        "       결과를 확인하기 위한 main() 함수를 구현합니다.\n",
        "\"\"\"\n",
        "def main():\n",
        "    \n",
        "    train_X, test_X, train_y, test_y = load_data()\n",
        "    \n",
        "    pred = SVM_clf(train_X, test_X, train_y)\n",
        "    \n",
        "    \n",
        "    # 학습된 모델로 digit data가 제대로 예측 됐는 지 \n",
        "    # 확인하기위한 confusion matrix를 호출합니다.\n",
        "    print(\"Confusion matrix results :\\n\\t- row : real(test_y) 0 ~ 9 label\\n\\t- column : predicted 0 ~ 9 label\\n\\n%s\\n\"  % confusion_matrix(test_y, pred))\n",
        "    \n",
        "    index_3_precision, index_3_recall, accuracy = cal_eval(test_y, pred)\n",
        "    \n",
        "    print(\"index 3의 recall : %f\" % index_3_recall)\n",
        "    print(\"index 3의 precision : %f\" % index_3_precision)\n",
        "    print(\"전체 accuracy : %f\" % accuracy)\n",
        "    \n",
        "    # 랜덤으로 뽑은 4개의 데이터를 학습된 모델로 \n",
        "    # 제대로 예측 했는 지 시각화 합니다.\n",
        "    draw_digit_images(test_X, test_y, pred)\n",
        "\n",
        "if __name__ == \"__main__\":\n",
        "    main()"
      ],
      "execution_count": 2,
      "outputs": [
        {
          "output_type": "error",
          "ename": "ModuleNotFoundError",
          "evalue": "ignored",
          "traceback": [
            "\u001b[0;31m---------------------------------------------------------------------------\u001b[0m",
            "\u001b[0;31mModuleNotFoundError\u001b[0m                       Traceback (most recent call last)",
            "\u001b[0;32m<ipython-input-2-096aa9b71be7>\u001b[0m in \u001b[0;36m<module>\u001b[0;34m()\u001b[0m\n\u001b[1;32m      3\u001b[0m \u001b[0;34m\u001b[0m\u001b[0m\n\u001b[1;32m      4\u001b[0m \u001b[0;32mfrom\u001b[0m \u001b[0msklearn\u001b[0m\u001b[0;34m.\u001b[0m\u001b[0mmodel_selection\u001b[0m \u001b[0;32mimport\u001b[0m \u001b[0mtrain_test_split\u001b[0m\u001b[0;34m\u001b[0m\u001b[0;34m\u001b[0m\u001b[0m\n\u001b[0;32m----> 5\u001b[0;31m \u001b[0;32mfrom\u001b[0m \u001b[0mdraw_image\u001b[0m \u001b[0;32mimport\u001b[0m \u001b[0mdraw_digit_images\u001b[0m\u001b[0;34m\u001b[0m\u001b[0;34m\u001b[0m\u001b[0m\n\u001b[0m\u001b[1;32m      6\u001b[0m \u001b[0;32mfrom\u001b[0m \u001b[0msklearn\u001b[0m\u001b[0;34m.\u001b[0m\u001b[0mdatasets\u001b[0m \u001b[0;32mimport\u001b[0m \u001b[0mload_digits\u001b[0m\u001b[0;34m\u001b[0m\u001b[0;34m\u001b[0m\u001b[0m\n\u001b[1;32m      7\u001b[0m \u001b[0;34m\u001b[0m\u001b[0m\n",
            "\u001b[0;31mModuleNotFoundError\u001b[0m: No module named 'draw_image'",
            "",
            "\u001b[0;31m---------------------------------------------------------------------------\u001b[0;32m\nNOTE: If your import is failing due to a missing package, you can\nmanually install dependencies using either !pip or !apt.\n\nTo view examples of installing some common dependencies, click the\n\"Open Examples\" button below.\n\u001b[0;31m---------------------------------------------------------------------------\u001b[0m\n"
          ]
        }
      ]
    },
    {
      "cell_type": "code",
      "metadata": {
        "colab": {
          "base_uri": "https://localhost:8080/"
        },
        "id": "pykzJaFhLrLK",
        "outputId": "f43a7bf9-f492-437c-d36f-3ceeb5bf2aab"
      },
      "source": [
        "help(sum)"
      ],
      "execution_count": 3,
      "outputs": [
        {
          "output_type": "stream",
          "text": [
            "Help on built-in function sum in module builtins:\n",
            "\n",
            "sum(iterable, start=0, /)\n",
            "    Return the sum of a 'start' value (default: 0) plus an iterable of numbers\n",
            "    \n",
            "    When the iterable is empty, return the start value.\n",
            "    This function is intended specifically for use with numeric values and may\n",
            "    reject non-numeric types.\n",
            "\n"
          ],
          "name": "stdout"
        }
      ]
    }
  ]
}