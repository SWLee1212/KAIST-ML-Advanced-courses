{
  "nbformat": 4,
  "nbformat_minor": 0,
  "metadata": {
    "colab": {
      "name": "data_plot.ipynb",
      "provenance": [],
      "authorship_tag": "ABX9TyM6yrzhPWCblPikwuQYtJta",
      "include_colab_link": true
    },
    "kernelspec": {
      "name": "python3",
      "display_name": "Python 3"
    },
    "language_info": {
      "name": "python"
    }
  },
  "cells": [
    {
      "cell_type": "markdown",
      "metadata": {
        "id": "view-in-github",
        "colab_type": "text"
      },
      "source": [
        "<a href=\"https://colab.research.google.com/github/SWLee1212/KAIST-ML-Advanced-courses/blob/master/data_plot.ipynb\" target=\"_parent\"><img src=\"https://colab.research.google.com/assets/colab-badge.svg\" alt=\"Open In Colab\"/></a>"
      ]
    },
    {
      "cell_type": "code",
      "metadata": {
        "id": "uTbU4Wraomml"
      },
      "source": [
        "from elice_utils import EliceUtils\n",
        "elice_utils = EliceUtils()\n",
        "\n",
        "from sklearn import linear_model\n",
        "import numpy as np\n",
        "import matplotlib.pyplot as plt\n",
        "from scipy.special import expit\n",
        "\n",
        "# plot을 그려주는 함수입니다.\n",
        "def plot_logistic_regression(model, X_data, y_data):\n",
        "    # and plot the result\n",
        "    plt.figure(1, figsize=(4, 3))\n",
        "    plt.clf()\n",
        "    plt.scatter(X_data.ravel(), y_data, color='black', zorder=20)\n",
        "    X_test = np.linspace(-5, 10, 300)\n",
        "\n",
        "    loss = expit(X_test * model.coef_ + model.intercept_).ravel()\n",
        "    plt.plot(X_test, loss, color='red', linewidth=3)\n",
        "\n",
        "    ols = linear_model.LinearRegression()\n",
        "    ols.fit(X_data, y_data)\n",
        "    plt.plot(X_test, ols.coef_ * X_test + ols.intercept_, linewidth=1)\n",
        "    plt.axhline(.5, color='.5')\n",
        "\n",
        "    plt.ylabel('y')\n",
        "    plt.xlabel('X')\n",
        "    plt.xticks(range(-5, 10))\n",
        "    plt.yticks([0, 0.5, 1])\n",
        "    plt.ylim(-.25, 1.25)\n",
        "    plt.xlim(-4, 10)\n",
        "    plt.legend(('Logistic Regression Model', 'Linear Regression Model'),\n",
        "               loc=\"lower right\", fontsize='small')\n",
        "    plt.tight_layout()\n",
        "    plt.show()\n",
        "\n",
        "    plt.savefig('image.png')\n",
        "    elice_utils.send_image('image.png')"
      ],
      "execution_count": null,
      "outputs": []
    }
  ]
}