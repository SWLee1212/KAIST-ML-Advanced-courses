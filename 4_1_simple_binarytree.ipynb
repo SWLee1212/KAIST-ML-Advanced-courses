{
  "nbformat": 4,
  "nbformat_minor": 0,
  "metadata": {
    "colab": {
      "name": "4-1-simple binarytree.ipynb",
      "provenance": [],
      "authorship_tag": "ABX9TyO+doZhy5JTRaGI6juTO3xm",
      "include_colab_link": true
    },
    "kernelspec": {
      "name": "python3",
      "display_name": "Python 3"
    },
    "language_info": {
      "name": "python"
    }
  },
  "cells": [
    {
      "cell_type": "markdown",
      "metadata": {
        "id": "view-in-github",
        "colab_type": "text"
      },
      "source": [
        "<a href=\"https://colab.research.google.com/github/SWLee1212/KAIST-ML-Advanced-courses/blob/master/4_1_simple_binarytree.ipynb\" target=\"_parent\"><img src=\"https://colab.research.google.com/assets/colab-badge.svg\" alt=\"Open In Colab\"/></a>"
      ]
    },
    {
      "cell_type": "code",
      "metadata": {
        "colab": {
          "base_uri": "https://localhost:8080/"
        },
        "id": "Y-V58s2wSXUg",
        "outputId": "3d6b0ad9-71af-4906-d41d-e3c2600573a1"
      },
      "source": [
        "import numpy as np\n",
        "import pandas as pd\n",
        "\n",
        "\n",
        "# 직업, 키, 성별로 이름을 구분하는 간단한 이진트리 분류기를 만들어보겠습니다.\n",
        "name = ['하하', '김범수', '다현', '아이유', '최민식', '김혜수']\n",
        "job  = ['가수', '가수'  , '가수', '가수'  , '배우'  , '배우']\n",
        "height = [171, 182, 158, 160, 177, 170]\n",
        "sex = ['M', 'M', 'F', 'F', 'M', 'F']\n",
        "\n",
        "# Node 번호를 지정해주기 위한 변수\n",
        "num = 0\n",
        "\n",
        "# Node 정보를 저장하기 위한 딕셔너리 생성\n",
        "node_list = {}\n",
        "\n",
        "# 데이터 프레임 만들기\n",
        "data = pd.DataFrame({'이름': name, '직업': job, '키': height,'성별': sex})\n",
        "print(data,'\\n')"
      ],
      "execution_count": 10,
      "outputs": [
        {
          "output_type": "stream",
          "text": [
            "    이름  직업    키 성별\n",
            "0   하하  가수  171  M\n",
            "1  김범수  가수  182  M\n",
            "2   다현  가수  158  F\n",
            "3  아이유  가수  160  F\n",
            "4  최민식  배우  177  M\n",
            "5  김혜수  배우  170  F \n",
            "\n"
          ],
          "name": "stdout"
        }
      ]
    },
    {
      "cell_type": "code",
      "metadata": {
        "colab": {
          "base_uri": "https://localhost:8080/"
        },
        "id": "QPXfC7aTSduI",
        "outputId": "800cf037-9f75-47ef-a510-046fdba5d90f"
      },
      "source": [
        "male = []\n",
        "female = []\n",
        "\n",
        "\n",
        "\n",
        "for i, s in enumerate(data['성별']):\n",
        "  print(i,s)\n",
        "  if s == 'M':\n",
        "    male.append(i)\n",
        "  elif s == 'F':\n",
        "    female.append(i)\n",
        "\n",
        "print(male,'\\n',female)\n",
        "\n",
        "\n"
      ],
      "execution_count": 17,
      "outputs": [
        {
          "output_type": "stream",
          "text": [
            "0 M\n",
            "1 M\n",
            "2 F\n",
            "3 F\n",
            "4 M\n",
            "5 F\n",
            "[0, 1, 4] \n",
            " [2, 3, 5]\n"
          ],
          "name": "stdout"
        }
      ]
    },
    {
      "cell_type": "code",
      "metadata": {
        "colab": {
          "base_uri": "https://localhost:8080/",
          "height": 136
        },
        "id": "HbOxxJ2tq1Lk",
        "outputId": "955cbc18-ef90-4555-bc1a-6e1b5415cc00"
      },
      "source": [
        "data.loc[male,['d']]"
      ],
      "execution_count": 18,
      "outputs": [
        {
          "output_type": "execute_result",
          "data": {
            "text/html": [
              "<div>\n",
              "<style scoped>\n",
              "    .dataframe tbody tr th:only-of-type {\n",
              "        vertical-align: middle;\n",
              "    }\n",
              "\n",
              "    .dataframe tbody tr th {\n",
              "        vertical-align: top;\n",
              "    }\n",
              "\n",
              "    .dataframe thead th {\n",
              "        text-align: right;\n",
              "    }\n",
              "</style>\n",
              "<table border=\"1\" class=\"dataframe\">\n",
              "  <thead>\n",
              "    <tr style=\"text-align: right;\">\n",
              "      <th></th>\n",
              "      <th>직업</th>\n",
              "    </tr>\n",
              "  </thead>\n",
              "  <tbody>\n",
              "    <tr>\n",
              "      <th>0</th>\n",
              "      <td>가수</td>\n",
              "    </tr>\n",
              "    <tr>\n",
              "      <th>1</th>\n",
              "      <td>가수</td>\n",
              "    </tr>\n",
              "    <tr>\n",
              "      <th>4</th>\n",
              "      <td>배우</td>\n",
              "    </tr>\n",
              "  </tbody>\n",
              "</table>\n",
              "</div>"
            ],
            "text/plain": [
              "   직업\n",
              "0  가수\n",
              "1  가수\n",
              "4  배우"
            ]
          },
          "metadata": {
            "tags": []
          },
          "execution_count": 18
        }
      ]
    },
    {
      "cell_type": "code",
      "metadata": {
        "colab": {
          "base_uri": "https://localhost:8080/"
        },
        "id": "ulUtwG8Rq7EK",
        "outputId": "2d97b7b6-69b2-4977-f211-366e200a69ad"
      },
      "source": [
        "import numpy as np\n",
        "import pandas as pd\n",
        "\n",
        "\n",
        "# 직업, 키, 성별로 이름을 구분하는 간단한 이진트리 분류기를 만들어보겠습니다.\n",
        "name = ['하하', '김범수', '다현', '아이유', '최민식', '김혜수']\n",
        "job  = ['가수', '가수'  , '가수', '가수'  , '배우'  , '배우']\n",
        "height = [171, 182, 158, 160, 177, 170]\n",
        "sex = ['M', 'M', 'F', 'F', 'M', 'F']\n",
        "\n",
        "# Node 번호를 지정해주기 위한 변수\n",
        "num = 0\n",
        "\n",
        "# Node 정보를 저장하기 위한 딕셔너리 생성\n",
        "node_list = {}\n",
        "\n",
        "# 데이터 프레임 만들기\n",
        "data = pd.DataFrame({'이름': name, '직업': job, '키': height,'성별': sex})\n",
        "print(data,'\\n')\n",
        "\n",
        "\"\"\"\n",
        "1. 성별에 따라 사람을 분류하는 함수를 구현합니다.\n",
        "\"\"\"\n",
        "def Sex_Node(df, depth):\n",
        "    # 전역 변수를 함수 내에서 사용하기 위해 Global 선언\n",
        "    global num\n",
        "    global node_list\n",
        "    # Node num, Depth, Node Name 출력\n",
        "    num +=1\n",
        "    print('Node_num : {} | Node Depth : {} | Sex_Node'.format(num, depth))\n",
        "    node_list[num] = 'Sex_Node'\n",
        "    \n",
        "    male = []\n",
        "    female = []\n",
        "    # 처음 성별 데이터 전체로 분류\n",
        "    for idx, sex in enumerate(data['성별']):\n",
        "        # 남자인 경우 Index 저장\n",
        "        if sex == 'M':\n",
        "            male.append(idx)\n",
        "        # 여자인 경우 Index 저장\n",
        "        elif sex == 'F':\n",
        "            female.append(idx)\n",
        "    \n",
        "    # Index 확인\n",
        "    print('남자 Index : ',male)\n",
        "    print('여자 Index : ',female)\n",
        "    \n",
        "    # 성별 분류 후 직업을 분류하는 Node를 호출합니다.\n",
        "    Job_Node(df,   male, depth+1)\n",
        "    Job_Node(df, female, depth+1)\n",
        "    \n",
        "\"\"\"\n",
        "2. 직업에 따라 사람을 분류하는 함수를 구현합니다.\n",
        "\"\"\"\n",
        "def Job_Node(df,idx, depth):\n",
        "    # 전역 변수를 함수 내에서 사용하기 위해 Global 선언\n",
        "    global num\n",
        "    global node_list\n",
        "    num +=1\n",
        "    \n",
        "    # Node num, Depth, Node Name 출력\n",
        "    print('Node_num : {} | Node Depth : {} | Job_Node'.format(num, depth))\n",
        "    node_list[num] = 'Job_Node'\n",
        "    \n",
        "    # Index 저장을 위한 리스트 \n",
        "    singer = []\n",
        "    \n",
        "    for i in idx:\n",
        "        # 가수인 경우 Index 저장\n",
        "        if data.loc[i,'직업'] == '가수':\n",
        "            singer.append(i)\n",
        "            \n",
        "        # 배우인 경우 Node 번호와 해당 배우의 이름 출력    \n",
        "        else:\n",
        "            num += 1\n",
        "            print('Node_num : {} | Node Depth : {} | Name : {}'.format(num, depth+1 ,data['이름'][i]))\n",
        "            node_list[num] = data['이름'][i]\n",
        "    \n",
        "    # 가수인 경우 분류가 끝나지 않았으므로 Index 출력\n",
        "    print('가수 Index : ',singer)\n",
        "    \n",
        "    # 마지막 분류 기준인 키를 통해 가수를 분류\n",
        "    Height_Node(df, singer, depth+1)\n",
        "\n",
        "\"\"\"\n",
        "3. 키에 따라 사람을 분류하는 함수를 구현합니다.\n",
        "\"\"\"\n",
        "def Height_Node(df,idx, depth):\n",
        "    # 전역 변수를 함수 내에서 사용하기 위해 Global 선언\n",
        "    global num\n",
        "    global node_list\n",
        "    num +=1\n",
        "    # Node num, Depth, Node Name 출력\n",
        "    print('Node_num : {} | Node Depth : {} | Height_Node'.format(num, depth))\n",
        "    node_list[num] = 'Height_Node'\n",
        "    \n",
        "    for i in idx:\n",
        "        num +=1\n",
        "        # 성별에 따라 키의 기준이 다르기 때문에 성별을 우선 분류\n",
        "        if df.loc[i,'성별'] =='M' :\n",
        "            # 남자의 경우 키에 따라 분류\n",
        "            # 키가 180보다 작은 경우\n",
        "            if df.loc[i,'키'] < 180:\n",
        "                print('Node_num : {} | Node Depth : {} | Name : {}'.format(num, depth+1,data['이름'][i]))\n",
        "                node_list[num] = data['이름'][i]\n",
        "            # 키가 180보다 큰 경우\n",
        "            else:\n",
        "                print('Node_num : {} | Node Depth : {} | Name : {}'.format(num, depth+1,data['이름'][i]))\n",
        "                node_list[num] = data['이름'][i]\n",
        "        else:\n",
        "            # 여자의 경우 키에 따라 분류\n",
        "            # 키가 160보다 작은 경우\n",
        "            if df.loc[i,'키'] < 160:\n",
        "                print('Node_num : {} | Node Depth : {} | Name : {}'.format(num, depth+1,data['이름'][i]))\n",
        "                node_list[num] = data['이름'][i]\n",
        "            # 키가 160보다 큰 경우\n",
        "            else:\n",
        "                print('Node_num : {} | Node Depth : {} | Name : {}'.format(num, depth+1,data['이름'][i]))\n",
        "                node_list[num] = data['이름'][i]\n",
        "\n",
        "def main():\n",
        "    # 첫 번째 분류 기준으로 성별을 설정합니다.\n",
        "    Sex_Node(data, 1)\n",
        "    print(node_list)\n",
        "\n",
        "if __name__==\"__main__\":\n",
        "    main()"
      ],
      "execution_count": 19,
      "outputs": [
        {
          "output_type": "stream",
          "text": [
            "    이름  직업    키 성별\n",
            "0   하하  가수  171  M\n",
            "1  김범수  가수  182  M\n",
            "2   다현  가수  158  F\n",
            "3  아이유  가수  160  F\n",
            "4  최민식  배우  177  M\n",
            "5  김혜수  배우  170  F \n",
            "\n",
            "Node_num : 1 | Node Depth : 1 | Sex_Node\n",
            "남자 Index :  [0, 1, 4]\n",
            "여자 Index :  [2, 3, 5]\n",
            "Node_num : 2 | Node Depth : 2 | Job_Node\n",
            "Node_num : 3 | Node Depth : 3 | Name : 최민식\n",
            "가수 Index :  [0, 1]\n",
            "Node_num : 4 | Node Depth : 3 | Height_Node\n",
            "Node_num : 5 | Node Depth : 4 | Name : 하하\n",
            "Node_num : 6 | Node Depth : 4 | Name : 김범수\n",
            "Node_num : 7 | Node Depth : 2 | Job_Node\n",
            "Node_num : 8 | Node Depth : 3 | Name : 김혜수\n",
            "가수 Index :  [2, 3]\n",
            "Node_num : 9 | Node Depth : 3 | Height_Node\n",
            "Node_num : 10 | Node Depth : 4 | Name : 다현\n",
            "Node_num : 11 | Node Depth : 4 | Name : 아이유\n",
            "{1: 'Sex_Node', 2: 'Job_Node', 3: '최민식', 4: 'Height_Node', 5: '하하', 6: '김범수', 7: 'Job_Node', 8: '김혜수', 9: 'Height_Node', 10: '다현', 11: '아이유'}\n"
          ],
          "name": "stdout"
        }
      ]
    }
  ]
}