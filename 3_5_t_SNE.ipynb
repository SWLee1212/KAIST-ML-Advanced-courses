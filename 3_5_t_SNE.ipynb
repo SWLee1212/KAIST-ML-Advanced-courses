{
  "nbformat": 4,
  "nbformat_minor": 0,
  "metadata": {
    "colab": {
      "name": "3-5-t-SNE.ipynb",
      "provenance": [],
      "authorship_tag": "ABX9TyNRAjgqNU0AZ/iTAKPvgrPd",
      "include_colab_link": true
    },
    "kernelspec": {
      "name": "python3",
      "display_name": "Python 3"
    },
    "language_info": {
      "name": "python"
    }
  },
  "cells": [
    {
      "cell_type": "markdown",
      "metadata": {
        "id": "view-in-github",
        "colab_type": "text"
      },
      "source": [
        "<a href=\"https://colab.research.google.com/github/SWLee1212/KAIST-ML-Advanced-courses/blob/master/3_5_t_SNE.ipynb\" target=\"_parent\"><img src=\"https://colab.research.google.com/assets/colab-badge.svg\" alt=\"Open In Colab\"/></a>"
      ]
    },
    {
      "cell_type": "code",
      "metadata": {
        "colab": {
          "base_uri": "https://localhost:8080/"
        },
        "id": "xp2Qn7AQoOp8",
        "outputId": "d66b3217-e02d-4f62-8d0a-f8b3b59877ba"
      },
      "source": [
        "import numpy as np\n",
        "from sklearn.manifold import TSNE\n",
        "from sklearn.datasets import load_wine\n",
        "import matplotlib.pyplot as plt\n",
        "\n",
        "# from elice_utils import EliceUtils\n",
        "# elice_utils = EliceUtils()\n",
        "\n",
        "\"\"\"\n",
        "1. 데이터를 불러오고, \n",
        "   2개의 변수만을 가질 수 있도록 고정하여 \n",
        "   반환하는 함수를 구현합니다.\n",
        "   \n",
        "   Step01. 사이킷런에 저장된 데이터를 불러옵니다.\n",
        "           데이터는 (X, y) 형태로 불러와야 합니다.\n",
        "           \n",
        "   Step02. column_start로 지정된 특정 column으로부터\n",
        "           연속되는 2개의 변수를 X에 저장합니다.   \n",
        "   [실습4]에서 구현한 함수를 그대로 사용할 수 있습니다. \n",
        "\"\"\"\n",
        "def load_data():\n",
        "    \n",
        "    X, y = load_wine(return_X_y=True)    \n",
        "    column_start = 6\n",
        "    X = X[:,column_start:column_start+2]\n",
        "    \n",
        "    return X\n",
        "    \n",
        "\"\"\"\n",
        "2. t-SNE를 활용하여 \n",
        "   2차원 데이터를 1차원으로 축소하는 함수를 완성합니다.\n",
        "   \n",
        "   Step01. t-SNE의 n_components를 1로 지정하여 \n",
        "           tsne를 정의합니다.\n",
        "           \n",
        "   Step02. tsne를 활용하여 차원 축소를 진행한 후,\n",
        "           차원이 축소된 데이터 X_tsne를 추출합니다.\n",
        "\"\"\"\n",
        "def tsne_data(X):\n",
        "    \n",
        "    tsne = TSNE(n_components=1)\n",
        "    \n",
        "    X_tsne = tsne.fit_transform(X)\n",
        "    \n",
        "    return tsne, X_tsne\n",
        "\n",
        "def main():\n",
        "    \n",
        "    X = load_data()\n",
        "    \n",
        "    tsne, X_tsne = tsne_data(X)\n",
        "    \n",
        "    print(\"- original shape:   \", X.shape)\n",
        "    print(\"- transformed shape:\", X_tsne.shape)\n",
        "    \n",
        "    print(\"\\n원본 데이터 X :\\n\", X[:5])\n",
        "    print(\"\\n차원 축소 이후 데이터 X_tsne\\n\",X_tsne[:5])\n",
        "    \n",
        "    \n",
        "if __name__ == '__main__':\n",
        "    main()"
      ],
      "execution_count": 11,
      "outputs": [
        {
          "output_type": "stream",
          "text": [
            "- original shape:    (178, 2)\n",
            "- transformed shape: (178, 1)\n",
            "\n",
            "원본 데이터 X :\n",
            " [[3.06 0.28]\n",
            " [2.76 0.26]\n",
            " [3.24 0.3 ]\n",
            " [3.49 0.24]\n",
            " [2.69 0.39]]\n",
            "\n",
            "차원 축소 이후 데이터 X_tsne\n",
            " [[-13.053231]\n",
            " [ -9.731012]\n",
            " [-14.551959]\n",
            " [-15.779975]\n",
            " [ -8.723503]]\n"
          ],
          "name": "stdout"
        }
      ]
    },
    {
      "cell_type": "code",
      "metadata": {
        "id": "iMSwcoubowZM"
      },
      "source": [
        "import numpy as np\n",
        "from sklearn.manifold import TSNE\n",
        "from sklearn.datasets import load_wine\n",
        "import matplotlib.pyplot as plt\n"
      ],
      "execution_count": 7,
      "outputs": []
    },
    {
      "cell_type": "code",
      "metadata": {
        "id": "xpnyeiuboyYb"
      },
      "source": [
        "def load_data():\n",
        "    \n",
        "    X, y = load_wine(return_X_y=True)\n",
        "    \n",
        "    column_start = 6\n",
        "    X = X[:,column_start:column_start+2]\n",
        "    \n",
        "    return X\n",
        "\n",
        "X = load_data()"
      ],
      "execution_count": 8,
      "outputs": []
    },
    {
      "cell_type": "code",
      "metadata": {
        "colab": {
          "base_uri": "https://localhost:8080/",
          "height": 327
        },
        "id": "VJ296hFdpBKD",
        "outputId": "9c848ace-b383-4794-cf8e-a87386195aff"
      },
      "source": [
        "def tsne_data(X):\n",
        "    \n",
        "    tsne = TSNE(n_components=1)\n",
        "    \n",
        "    X_tsne = tsne.fit_transform(X)\n",
        "    \n",
        "    return tsne, X_tsne\n",
        "\n",
        "tsne, X_tsne = tsne_data(X)\n",
        "    \n",
        "def visualize(X,X_tsne):\n",
        "    # X_new = pca.inverse_transform(X_pca)\n",
        "    \n",
        "    plt.scatter(X_tsne, alpha=0.2)\n",
        "    # plt.scatter(X_new[:, 0], X_new[:, 1], alpha=0.8)\n",
        "    plt.axis('equal')\n",
        "\n",
        "visualize(X,X_tsne)"
      ],
      "execution_count": 10,
      "outputs": [
        {
          "output_type": "error",
          "ename": "TypeError",
          "evalue": "ignored",
          "traceback": [
            "\u001b[0;31m---------------------------------------------------------------------------\u001b[0m",
            "\u001b[0;31mTypeError\u001b[0m                                 Traceback (most recent call last)",
            "\u001b[0;32m<ipython-input-10-021e9c415bba>\u001b[0m in \u001b[0;36m<module>\u001b[0;34m()\u001b[0m\n\u001b[1;32m     16\u001b[0m     \u001b[0mplt\u001b[0m\u001b[0;34m.\u001b[0m\u001b[0maxis\u001b[0m\u001b[0;34m(\u001b[0m\u001b[0;34m'equal'\u001b[0m\u001b[0;34m)\u001b[0m\u001b[0;34m\u001b[0m\u001b[0;34m\u001b[0m\u001b[0m\n\u001b[1;32m     17\u001b[0m \u001b[0;34m\u001b[0m\u001b[0m\n\u001b[0;32m---> 18\u001b[0;31m \u001b[0mvisualize\u001b[0m\u001b[0;34m(\u001b[0m\u001b[0mX\u001b[0m\u001b[0;34m,\u001b[0m\u001b[0mX_tsne\u001b[0m\u001b[0;34m)\u001b[0m\u001b[0;34m\u001b[0m\u001b[0;34m\u001b[0m\u001b[0m\n\u001b[0m",
            "\u001b[0;32m<ipython-input-10-021e9c415bba>\u001b[0m in \u001b[0;36mvisualize\u001b[0;34m(X, X_tsne)\u001b[0m\n\u001b[1;32m     12\u001b[0m     \u001b[0;31m# X_new = pca.inverse_transform(X_pca)\u001b[0m\u001b[0;34m\u001b[0m\u001b[0;34m\u001b[0m\u001b[0;34m\u001b[0m\u001b[0m\n\u001b[1;32m     13\u001b[0m \u001b[0;34m\u001b[0m\u001b[0m\n\u001b[0;32m---> 14\u001b[0;31m     \u001b[0mplt\u001b[0m\u001b[0;34m.\u001b[0m\u001b[0mscatter\u001b[0m\u001b[0;34m(\u001b[0m\u001b[0mX_tsne\u001b[0m\u001b[0;34m,\u001b[0m \u001b[0malpha\u001b[0m\u001b[0;34m=\u001b[0m\u001b[0;36m0.2\u001b[0m\u001b[0;34m)\u001b[0m\u001b[0;34m\u001b[0m\u001b[0;34m\u001b[0m\u001b[0m\n\u001b[0m\u001b[1;32m     15\u001b[0m     \u001b[0;31m# plt.scatter(X_new[:, 0], X_new[:, 1], alpha=0.8)\u001b[0m\u001b[0;34m\u001b[0m\u001b[0;34m\u001b[0m\u001b[0;34m\u001b[0m\u001b[0m\n\u001b[1;32m     16\u001b[0m     \u001b[0mplt\u001b[0m\u001b[0;34m.\u001b[0m\u001b[0maxis\u001b[0m\u001b[0;34m(\u001b[0m\u001b[0;34m'equal'\u001b[0m\u001b[0;34m)\u001b[0m\u001b[0;34m\u001b[0m\u001b[0;34m\u001b[0m\u001b[0m\n",
            "\u001b[0;31mTypeError\u001b[0m: scatter() missing 1 required positional argument: 'y'"
          ]
        }
      ]
    }
  ]
}