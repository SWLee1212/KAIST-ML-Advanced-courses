{
  "nbformat": 4,
  "nbformat_minor": 0,
  "metadata": {
    "colab": {
      "name": "1-6_Ridge_Lasso 회귀.ipynb",
      "provenance": [],
      "authorship_tag": "ABX9TyOTMv21JfGGllvt3D9LlyOd",
      "include_colab_link": true
    },
    "kernelspec": {
      "name": "python3",
      "display_name": "Python 3"
    },
    "language_info": {
      "name": "python"
    }
  },
  "cells": [
    {
      "cell_type": "markdown",
      "metadata": {
        "id": "view-in-github",
        "colab_type": "text"
      },
      "source": [
        "<a href=\"https://colab.research.google.com/github/SWLee1212/KAIST-ML-Advanced-courses/blob/master/1_6_Ridge_Lasso_%ED%9A%8C%EA%B7%80.ipynb\" target=\"_parent\"><img src=\"https://colab.research.google.com/assets/colab-badge.svg\" alt=\"Open In Colab\"/></a>"
      ]
    },
    {
      "cell_type": "code",
      "metadata": {
        "colab": {
          "base_uri": "https://localhost:8080/",
          "height": 1000
        },
        "id": "teGnTeEp5e1Y",
        "outputId": "41f8474a-6272-4ca2-b926-1edba91dbed9"
      },
      "source": [
        "import matplotlib.pyplot as plt\n",
        "import pandas as pd\n",
        "import numpy as np\n",
        "\n",
        "# from elice_utils import EliceUtils\n",
        "# elice_utils = EliceUtils()\n",
        "\n",
        "from sklearn.linear_model import Ridge\n",
        "from sklearn.linear_model import Lasso\n",
        "\n",
        "from sklearn.datasets import load_boston\n",
        "\n",
        "\"\"\"\n",
        "1. 사이킷런에 존재하는 데이터를 불러오고, \n",
        "   불러온 데이터를 학습용 데이터와 테스트용 데이터로 \n",
        "   분리하여 반환하는 함수를 구현합니다.\n",
        "   \n",
        "   Step01. 사이킷런에 존재하는 boston 데이터를 \n",
        "           (X, y)의 형태로 불러옵니다. \n",
        "   \n",
        "   Step02. 데이터의 변수 이름을 feature_names 에\n",
        "           저장합니다.\n",
        "\"\"\"\n",
        "def load_data():\n",
        "    \n",
        "    X, y = load_boston(return_X_y = True)\n",
        "    \n",
        "    feature_names = load_boston().feature_names\n",
        "    \n",
        "    return X,y,feature_names\n",
        "    \n",
        "\"\"\"\n",
        "2. 릿지(Ridge) 회귀를 구현하고, \n",
        "   전체 데이터를 바탕으로 학습시킨 모델을 \n",
        "   반환하는 함수를 완성합니다.\n",
        "   \n",
        "   Step01. 사이킷런에 구현되어 있는 \n",
        "           릿지(Ridge) 회귀 모델을 불러옵니다.\n",
        "           \n",
        "           파라미터 alpha를 10으로 설정합니다.\n",
        "   \n",
        "   Step02. 불러온 모델을 전체 데이터에 맞춰\n",
        "           학습시킵니다.\n",
        "\"\"\"\n",
        "def Ridge_regression(X, y):\n",
        "    \n",
        "    ridge_reg = Ridge(alpha=10)\n",
        "    \n",
        "    ridge_reg.fit(X,y)\n",
        "    \n",
        "    return ridge_reg\n",
        "\n",
        "\"\"\"\n",
        "2. 라쏘(Lasso) 회귀를 구현하고, \n",
        "   전체 데이터를 바탕으로 학습시킨 모델을 \n",
        "   반환하는 함수를 완성합니다.\n",
        "   \n",
        "   Step01. 사이킷런에 구현되어 있는 \n",
        "           라쏘(Lasso) 회귀 모델을 불러옵니다.\n",
        "           \n",
        "           파라미터 alpha를 10으로 설정합니다.\n",
        "   \n",
        "   Step02. 불러온 모델을 전체 데이터에 맞춰\n",
        "           학습시킵니다.\n",
        "\"\"\"\n",
        "def Lasso_regression(X, y):\n",
        "    \n",
        "    lasso_reg = Lasso(alpha=10)\n",
        "    \n",
        "    lasso_reg.fit(X,y)\n",
        "    \n",
        "    return lasso_reg\n",
        "    \n",
        "# 각 변수의 beta_i 크기를 시각화하는 함수입니다.\n",
        "def plot_graph(coef, title):\n",
        "    fig = plt.figure()\n",
        "    \n",
        "    plt.ylim(-1,1)\n",
        "    plt.title(title)\n",
        "    coef.plot(kind='bar')\n",
        "\n",
        "    plt.savefig(\"result.png\")\n",
        "    plt.show()\n",
        "    # elice_utils.send_image(\"result.png\")\n",
        "\n",
        "\n",
        "def main():\n",
        "    \n",
        "    X,y,feature_names = load_data()\n",
        "    \n",
        "    ridge_reg = Ridge_regression(X, y)\n",
        "    lasso_reg = Lasso_regression(X, y)\n",
        "    \n",
        "    ## Ridge 회귀의 beta_i의 크기를 저장합니다.\n",
        "    ridge_coef = pd.Series(ridge_reg.coef_, feature_names).sort_values()\n",
        "    print(\"Ridge 회귀의 beta_i\\n\", ridge_coef)\n",
        "    \n",
        "    ## Lasso 회귀의 beta_i의 크기를 저장합니다.\n",
        "    lasso_coef = pd.Series(lasso_reg.coef_, feature_names).sort_values()\n",
        "    print(\"Lasso 회귀의 beta_i\\n\", lasso_coef)\n",
        "    \n",
        "    plot_graph(ridge_coef, 'Ridge')\n",
        "    plot_graph(lasso_coef, 'Lasso')\n",
        "\n",
        "if __name__==\"__main__\":\n",
        "    main()"
      ],
      "execution_count": 1,
      "outputs": [
        {
          "output_type": "stream",
          "text": [
            "Ridge 회귀의 beta_i\n",
            " NOX       -2.371619\n",
            "DIS       -1.248808\n",
            "PTRATIO   -0.797945\n",
            "LSTAT     -0.559366\n",
            "CRIM      -0.101435\n",
            "INDUS     -0.042962\n",
            "TAX       -0.013993\n",
            "AGE       -0.010707\n",
            "B          0.010037\n",
            "ZN         0.049579\n",
            "RAD        0.279596\n",
            "CHAS       1.952021\n",
            "RM         3.702272\n",
            "dtype: float64\n",
            "Lasso 회귀의 beta_i\n",
            " LSTAT     -0.564038\n",
            "TAX       -0.009282\n",
            "CRIM      -0.000000\n",
            "INDUS     -0.000000\n",
            "CHAS       0.000000\n",
            "NOX        0.000000\n",
            "RM         0.000000\n",
            "AGE        0.000000\n",
            "DIS       -0.000000\n",
            "RAD        0.000000\n",
            "PTRATIO   -0.000000\n",
            "B          0.007496\n",
            "ZN         0.026146\n",
            "dtype: float64\n"
          ],
          "name": "stdout"
        },
        {
          "output_type": "display_data",
          "data": {
            "image/png": "[encoded data removed]",
            "text/plain": [
              "<Figure size 432x288 with 1 Axes>"
            ]
          },
          "metadata": {
            "tags": [],
            "needs_background": "light"
          }
        },
        {
          "output_type": "display_data",
          "data": {
            "image/png": "[encoded data removed]",
            "text/plain": [
              "<Figure size 432x288 with 1 Axes>"
            ]
          },
          "metadata": {
            "tags": [],
            "needs_background": "light"
          }
        }
      ]
    }
  ]
}