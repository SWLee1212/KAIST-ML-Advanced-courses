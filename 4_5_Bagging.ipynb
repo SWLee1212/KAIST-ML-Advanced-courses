{
  "nbformat": 4,
  "nbformat_minor": 0,
  "metadata": {
    "colab": {
      "name": "4-5-Bagging.ipynb",
      "provenance": [],
      "authorship_tag": "ABX9TyPvQOCa8BlcJ6oaT1Sx4q5P",
      "include_colab_link": true
    },
    "kernelspec": {
      "name": "python3",
      "display_name": "Python 3"
    },
    "language_info": {
      "name": "python"
    }
  },
  "cells": [
    {
      "cell_type": "markdown",
      "metadata": {
        "id": "view-in-github",
        "colab_type": "text"
      },
      "source": [
        "<a href=\"https://colab.research.google.com/github/SWLee1212/KAIST-ML-Advanced-courses/blob/master/4_5_Bagging.ipynb\" target=\"_parent\"><img src=\"https://colab.research.google.com/assets/colab-badge.svg\" alt=\"Open In Colab\"/></a>"
      ]
    },
    {
      "cell_type": "code",
      "metadata": {
        "id": "_MsLe6UtM-H5"
      },
      "source": [
        "import pandas as pd\n",
        "from sklearn.ensemble import BaggingClassifier\n",
        "from sklearn.tree import DecisionTreeClassifier\n",
        "from sklearn.linear_model import LogisticRegression\n",
        "from sklearn.neighbors import KNeighborsClassifier\n",
        "from sklearn.datasets import load_breast_cancer\n",
        "from sklearn.model_selection import train_test_split\n",
        "from sklearn.metrics import accuracy_score\n",
        "\n",
        "# 유방암 데이터를 불러오고,학습용 데이터와 테스트용 데이터로 분리하여 반환하는 함수입니다.\n",
        "def load_data():\n",
        "    X, y = load_breast_cancer(return_X_y = True)\n",
        "    \n",
        "    train_X, test_X, train_y, test_y = train_test_split(X, y, test_size = 0.2, random_state = 156)\n",
        "    \n",
        "    return train_X, test_X, train_y, test_y\n",
        "\n",
        "\"\"\"\n",
        "1. 동일한 모델을 사용하는 BaggingClassifier를 정의하여\n",
        "   학습시키고, 예측을 수행한 결과를 반환하는 함수를 구현합니다.\n",
        "   \n",
        "   Step01. Bagging에 사용할 분류 모델을 설정하여 \n",
        "           BaggingClassifier를 정의합니다.\n",
        "           \n",
        "           모델은 의사결정 나무(DecisionTreeClassifier)를\n",
        "           사용합니다.\n",
        "           \n",
        "           n_estimators는 자유롭게 설정합니다.\n",
        "   \n",
        "   Step02. BaggingClassifier를\n",
        "           학습용 데이터에 맞춰 학습을 시킵니다.\n",
        "   \n",
        "   Step03. 테스트 데이터에 대한 예측을 수행합니다.\n",
        "\"\"\"\n",
        "def Bagging_Clf(train_X, test_X, train_y, test_y):\n",
        "    \n",
        "    ba_clf = BaggingClassifier(base_estimator=DecisionTreeClassifier(),\n",
        "                                n_estimators=10)\n",
        "    \n",
        "    ba_clf.fit(train_X, train_y)\n",
        "    \n",
        "    pred = ba_clf.predict(test_X)\n",
        "    \n",
        "    return ba_clf, pred\n",
        "    \n",
        "# 데이터를 불러오고, 모델 학습 및 예측을 진행하기 위한 함수입니다.\n",
        "def main():\n",
        "    \n",
        "    train_X, test_X, train_y, test_y = load_data()\n",
        "    \n",
        "    ba_clf, pred = Bagging_Clf(train_X, test_X, train_y, test_y)\n",
        "    \n",
        "    print('Bagging Classifier 정확도 : {0:.4f}'.format(accuracy_score(test_y, pred)))\n",
        "    \n",
        "    # 단일 의사결정 나무를 학습했을 때 결과 예측하기\n",
        "    single_dt = DecisionTreeClassifier()\n",
        "    single_dt.fit(train_X,train_y)\n",
        "    single_pred = single_dt.predict(test_X)\n",
        "    print('Single Decision Tree Classifier 정확도 : {0:.4f}'.format(accuracy_score(test_y, single_pred)))\n",
        "\n",
        "if __name__ ==\"__main__\":\n",
        "    main()"
      ],
      "execution_count": null,
      "outputs": []
    }
  ]
}