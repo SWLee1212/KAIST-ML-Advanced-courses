{
  "nbformat": 4,
  "nbformat_minor": 0,
  "metadata": {
    "colab": {
      "name": "1-7_ElasticNet 회귀.ipynb",
      "provenance": [],
      "authorship_tag": "ABX9TyMVki7rt2MAsqkTvgMaiUeh",
      "include_colab_link": true
    },
    "kernelspec": {
      "name": "python3",
      "display_name": "Python 3"
    },
    "language_info": {
      "name": "python"
    }
  },
  "cells": [
    {
      "cell_type": "markdown",
      "metadata": {
        "id": "view-in-github",
        "colab_type": "text"
      },
      "source": [
        "<a href=\"https://colab.research.google.com/github/SWLee1212/KAIST-ML-Advanced-courses/blob/master/1_7_ElasticNet_%ED%9A%8C%EA%B7%80.ipynb\" target=\"_parent\"><img src=\"https://colab.research.google.com/assets/colab-badge.svg\" alt=\"Open In Colab\"/></a>"
      ]
    },
    {
      "cell_type": "code",
      "metadata": {
        "colab": {
          "base_uri": "https://localhost:8080/",
          "height": 596
        },
        "id": "ff4hul4f8r4C",
        "outputId": "3d6da56b-b558-471f-f404-1641c5d3bb8c"
      },
      "source": [
        "import matplotlib.pyplot as plt\n",
        "import pandas as pd\n",
        "import numpy as np\n",
        "\n",
        "# from elice_utils import EliceUtils\n",
        "# elice_utils = EliceUtils()\n",
        "\n",
        "from sklearn.linear_model import ElasticNet\n",
        "from sklearn.model_selection import train_test_split\n",
        "from sklearn.datasets import load_boston\n",
        "\n",
        "\"\"\"\n",
        "1. 사이킷런에 존재하는 데이터를 불러오고, \n",
        "   데이터와 변수 이름을 반환하는 함수를 구현합니다.\n",
        "   \n",
        "   Step01. 사이킷런에 존재하는 boston 데이터를 \n",
        "           (X, y)의 형태로 불러옵니다. \n",
        "   \n",
        "   Step02. 데이터의 변수 이름을 feature_names 에 저장합니다.\n",
        "   \n",
        "   [실습6]에서 구현한 함수를 그대로 이용할 수 있습니다.\n",
        "\"\"\"\n",
        "def load_data():\n",
        "    \n",
        "    X, y = load_boston(return_X_y = True)\n",
        "    \n",
        "    feature_names = load_boston().feature_names\n",
        "    \n",
        "    return X,y,feature_names\n",
        "    \n",
        "\"\"\"\n",
        "2. 엘라스틱 넷(ElasticNet) 회귀를 구현하고, \n",
        "   학습용 데이터를 바탕으로 학습시킨 모델을 \n",
        "   반환하는 함수를 완성합니다.\n",
        "   \n",
        "   Step01. 사이킷런에 구현되어 있는 \n",
        "           엘라스틱 넷(ElasticNet) 회귀 모델을 불러옵니다.\n",
        "           \n",
        "           파라미터 alpha와 l1_ratio를 자유롭게 설정합니다.\n",
        "   \n",
        "   Step02. 불러온 모델을 학습용 데이터에 맞춰 학습시킵니다.\n",
        "\"\"\"\n",
        "\n",
        "def ElasticNet_regression(train_X, train_y):\n",
        "    \n",
        "    ElasticNet_reg = ElasticNet(alpha=0.001, l1_ratio =0.2)\n",
        "    \n",
        "    ElasticNet_reg.fit(train_X, train_y)\n",
        "    \n",
        "    return ElasticNet_reg\n",
        "    \n",
        "    \n",
        "# 각 변수의 beta_i 크기를 시각화하는 함수입니다.\n",
        "def plot_graph(coef):\n",
        "    coef.plot(kind='bar')\n",
        "    \n",
        "    plt.savefig(\"result.png\")\n",
        "    # elice_utils.send_image(\"result.png\")\n",
        "    \n",
        "    \n",
        "def main():\n",
        "    \n",
        "    X,y,feature_names = load_data()\n",
        "    \n",
        "    train_X, test_X, train_y, test_y = train_test_split(X,y,test_size=0.2, random_state=100)\n",
        "    \n",
        "    elasticnet_reg = ElasticNet_regression(train_X, train_y)\n",
        "    \n",
        "    # 엘라스틱넷 회귀 모델 평가 점수 출력하기\n",
        "    score = elasticnet_reg.score(test_X,test_y)\n",
        "    print(\"ElasticNet 회귀의 평가 점수:\", score)\n",
        "    \n",
        "    # 엘라스틱넷 회귀의 beta_i의 크기를 저장합니다.\n",
        "    ElasticNet_coef = pd.Series(elasticnet_reg.coef_, feature_names).sort_values()\n",
        "    print(\"\\nElasticNet 회귀의 beta_i\\n\", ElasticNet_coef)\n",
        "    \n",
        "    plot_graph(ElasticNet_coef)\n",
        "    \n",
        "    return elasticnet_reg\n",
        "\n",
        "if __name__==\"__main__\":\n",
        "    main()"
      ],
      "execution_count": 1,
      "outputs": [
        {
          "output_type": "stream",
          "text": [
            "ElasticNet 회귀의 평가 점수: 0.7533626413092228\n",
            "\n",
            "ElasticNet 회귀의 beta_i\n",
            " NOX       -12.731920\n",
            "DIS        -1.466863\n",
            "PTRATIO    -0.887274\n",
            "LSTAT      -0.489433\n",
            "CRIM       -0.079409\n",
            "INDUS      -0.018739\n",
            "TAX        -0.012458\n",
            "AGE        -0.011579\n",
            "B           0.009712\n",
            "ZN          0.048576\n",
            "RAD         0.278970\n",
            "CHAS        2.996121\n",
            "RM          3.693879\n",
            "dtype: float64\n"
          ],
          "name": "stdout"
        },
        {
          "output_type": "display_data",
          "data": {
            "image/png": "[encoded data removed]",
            "text/plain": [
              "<Figure size 432x288 with 1 Axes>"
            ]
          },
          "metadata": {
            "tags": [],
            "needs_background": "light"
          }
        }
      ]
    },
    {
      "cell_type": "markdown",
      "metadata": {
        "id": "IPgQjiPg819_"
      },
      "source": [
        "alpha: 기본값은 1입니다.\n",
        "\n",
        "alpha값이 클수록 더 강한 정규화를 적용합니다.\n",
        "\n",
        "l1_ratio: L1 정규화를 반영할 비율"
      ]
    }
  ]
}